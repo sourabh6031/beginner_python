{
 "cells": [
  {
   "cell_type": "markdown",
   "id": "33863496",
   "metadata": {},
   "source": [
    "## NESTED LOOPS + JUMP STATEMENT"
   ]
  },
  {
   "cell_type": "code",
   "execution_count": null,
   "id": "86492f9b",
   "metadata": {},
   "outputs": [],
   "source": []
  },
  {
   "cell_type": "markdown",
   "id": "5a65ee5e",
   "metadata": {},
   "source": [
    "### Q2. "
   ]
  },
  {
   "cell_type": "code",
   "execution_count": null,
   "id": "978f3b0b",
   "metadata": {},
   "outputs": [],
   "source": [
    "#1 2 3 4\n",
    "#1 2 3\n",
    "#1 2\n",
    "#1"
   ]
  },
  {
   "cell_type": "code",
   "execution_count": 5,
   "id": "4867c450",
   "metadata": {},
   "outputs": [
    {
     "name": "stdout",
     "output_type": "stream",
     "text": [
      "5\n",
      "1 2 3 4 5\n",
      "1 2 3 4\n",
      "1 2 3\n",
      "1 2\n",
      "1\n"
     ]
    }
   ],
   "source": [
    "t = int(input())\n",
    "while t>=1:\n",
    "    t-=1\n",
    "    for i in range(1,t+2):\n",
    "        if i==t+1:\n",
    "            print(i,end='')\n",
    "        else:\n",
    "            print(i,end=' ')\n",
    "    print()    "
   ]
  },
  {
   "cell_type": "code",
   "execution_count": null,
   "id": "db573872",
   "metadata": {},
   "outputs": [],
   "source": []
  },
  {
   "cell_type": "markdown",
   "id": "2e6dc58e",
   "metadata": {},
   "source": [
    "### Q3."
   ]
  },
  {
   "cell_type": "code",
   "execution_count": null,
   "id": "78a726d8",
   "metadata": {},
   "outputs": [],
   "source": [
    "#*\n",
    "#**\n",
    "#***\n",
    "#****"
   ]
  },
  {
   "cell_type": "code",
   "execution_count": 6,
   "id": "e97d091d",
   "metadata": {},
   "outputs": [
    {
     "name": "stdout",
     "output_type": "stream",
     "text": [
      "5\n",
      "*\n",
      "**\n",
      "***\n",
      "****\n",
      "*****\n",
      "\n"
     ]
    }
   ],
   "source": [
    "n = int(input())\n",
    "for i in range(1,n+1):\n",
    "    print(i*'*')\n",
    "print()    "
   ]
  },
  {
   "cell_type": "code",
   "execution_count": null,
   "id": "529f1189",
   "metadata": {},
   "outputs": [],
   "source": []
  },
  {
   "cell_type": "markdown",
   "id": "841092e3",
   "metadata": {},
   "source": [
    "### Q4."
   ]
  },
  {
   "cell_type": "code",
   "execution_count": null,
   "id": "594ee0eb",
   "metadata": {},
   "outputs": [],
   "source": [
    "1\n",
    "1 2\n",
    "1 2 3\n",
    "1 2 3 4"
   ]
  },
  {
   "cell_type": "code",
   "execution_count": 11,
   "id": "24790bc7",
   "metadata": {},
   "outputs": [
    {
     "name": "stdout",
     "output_type": "stream",
     "text": [
      "4\n",
      "1\n",
      "1 2\n",
      "1 2 3\n",
      "1 2 3 4\n"
     ]
    }
   ],
   "source": [
    "n = int(input())\n",
    "for i in range(1,n+1):\n",
    "    for j in range(1,i+1):\n",
    "        if j==i:\n",
    "            print(j,end='')\n",
    "        else:\n",
    "            print(j,end=' ')\n",
    "    print() "
   ]
  },
  {
   "cell_type": "code",
   "execution_count": null,
   "id": "8be9388b",
   "metadata": {},
   "outputs": [],
   "source": []
  },
  {
   "cell_type": "markdown",
   "id": "257e4c35",
   "metadata": {},
   "source": [
    "### Q5."
   ]
  },
  {
   "cell_type": "code",
   "execution_count": 13,
   "id": "106851dd",
   "metadata": {},
   "outputs": [],
   "source": [
    "#*  *\n",
    "#*  *\n",
    "#*  *\n",
    "#*  *\n",
    "#<n-2>space"
   ]
  },
  {
   "cell_type": "code",
   "execution_count": 15,
   "id": "508b81a6",
   "metadata": {},
   "outputs": [
    {
     "name": "stdout",
     "output_type": "stream",
     "text": [
      "3\n",
      "* *\n",
      "* *\n",
      "* *\n",
      "\n"
     ]
    }
   ],
   "source": [
    "n = int(input())\n",
    "for i in range(1,n+1):\n",
    "    print('*'+' '*(n-2)+'*')\n",
    "print()    "
   ]
  },
  {
   "cell_type": "code",
   "execution_count": null,
   "id": "5fc1e663",
   "metadata": {},
   "outputs": [],
   "source": []
  },
  {
   "cell_type": "markdown",
   "id": "421e2775",
   "metadata": {},
   "source": [
    "## Pattern Printing"
   ]
  },
  {
   "cell_type": "markdown",
   "id": "5cdc4091",
   "metadata": {},
   "source": [
    "### Q1."
   ]
  },
  {
   "cell_type": "code",
   "execution_count": null,
   "id": "d22bc6c8",
   "metadata": {},
   "outputs": [],
   "source": [
    "*****\n",
    "_****\n",
    "__***\n",
    "___**\n",
    "____*"
   ]
  },
  {
   "cell_type": "code",
   "execution_count": 24,
   "id": "a81400ee",
   "metadata": {},
   "outputs": [
    {
     "name": "stdout",
     "output_type": "stream",
     "text": [
      "2\n",
      "**\n",
      " *\n"
     ]
    }
   ],
   "source": [
    "n = int(input())\n",
    "for i in range(n,0,-1):\n",
    "    for j in range(n-i):\n",
    "        print(' ',end='')\n",
    "    for k in range(i):\n",
    "        print('*',end='')\n",
    "    print()    "
   ]
  },
  {
   "cell_type": "code",
   "execution_count": null,
   "id": "a3429441",
   "metadata": {},
   "outputs": [],
   "source": []
  },
  {
   "cell_type": "markdown",
   "id": "5627219d",
   "metadata": {},
   "source": [
    "### Q2."
   ]
  },
  {
   "cell_type": "code",
   "execution_count": null,
   "id": "87c44f9b",
   "metadata": {},
   "outputs": [],
   "source": [
    "# matrix of M x N"
   ]
  },
  {
   "cell_type": "code",
   "execution_count": 27,
   "id": "2b278afa",
   "metadata": {},
   "outputs": [
    {
     "name": "stdout",
     "output_type": "stream",
     "text": [
      "3\n",
      "1\n",
      "*\n",
      "*\n",
      "*\n"
     ]
    }
   ],
   "source": [
    "M = int(input())\n",
    "N = int(input())\n",
    "for i in range(1,M+1):\n",
    "    for j in range(1,N+1):\n",
    "        print('*',end='')\n",
    "    print()    "
   ]
  },
  {
   "cell_type": "code",
   "execution_count": null,
   "id": "aca54914",
   "metadata": {},
   "outputs": [],
   "source": []
  },
  {
   "cell_type": "markdown",
   "id": "1612949d",
   "metadata": {},
   "source": [
    "### Q3."
   ]
  },
  {
   "cell_type": "code",
   "execution_count": null,
   "id": "f8407fe0",
   "metadata": {},
   "outputs": [],
   "source": [
    "*________* // 8 spaces\n",
    "\n",
    "**______** // 6 spaces\n",
    "\n",
    "***____*** // 4 spaces\n",
    "\n",
    "****__**** // 2 spaces\n",
    "\n",
    "********** // 0 spaces"
   ]
  },
  {
   "cell_type": "code",
   "execution_count": 28,
   "id": "5f647077",
   "metadata": {},
   "outputs": [
    {
     "name": "stdout",
     "output_type": "stream",
     "text": [
      "5\n",
      "*        *\n",
      "**      **\n",
      "***    ***\n",
      "****  ****\n",
      "**********\n"
     ]
    }
   ],
   "source": [
    "n =int(input())\n",
    "\n",
    "for i in range(1,n+1):\n",
    "    #for star\n",
    "    for j in range(0,i):\n",
    "        print('*',end='')\n",
    "    #for space\n",
    "    for k in range(n-i):\n",
    "        print(' ',end='')\n",
    "    #for space\n",
    "    for l in range(n-i):\n",
    "        print(' ',end='')\n",
    "    #for star\n",
    "    for m in range(0,i):\n",
    "        print('*',end='')\n",
    "    print()    "
   ]
  },
  {
   "cell_type": "code",
   "execution_count": null,
   "id": "8aaacadd",
   "metadata": {},
   "outputs": [],
   "source": []
  },
  {
   "cell_type": "markdown",
   "id": "eb37532b",
   "metadata": {},
   "source": [
    "### Q4."
   ]
  },
  {
   "cell_type": "code",
   "execution_count": null,
   "id": "cbeb525c",
   "metadata": {},
   "outputs": [],
   "source": [
    "N=5\n",
    "\n",
    "*****\n",
    "****\n",
    "***\n",
    "**\n",
    "*"
   ]
  },
  {
   "cell_type": "code",
   "execution_count": 30,
   "id": "e6bd9f4c",
   "metadata": {},
   "outputs": [
    {
     "name": "stdout",
     "output_type": "stream",
     "text": [
      "5\n",
      "*****\n",
      "****\n",
      "***\n",
      "**\n",
      "*\n"
     ]
    }
   ],
   "source": [
    "n = int(input())\n",
    "\n",
    "for i in range(1,n+1):\n",
    "    for j in range(n-i+1):\n",
    "        print('*',end='')\n",
    "    print()    "
   ]
  },
  {
   "cell_type": "code",
   "execution_count": null,
   "id": "149b8424",
   "metadata": {},
   "outputs": [],
   "source": []
  },
  {
   "cell_type": "markdown",
   "id": "5b8ce218",
   "metadata": {},
   "source": [
    "### Q5."
   ]
  },
  {
   "cell_type": "code",
   "execution_count": null,
   "id": "bb4dfb30",
   "metadata": {},
   "outputs": [],
   "source": [
    "********** // 0 spaces\n",
    "\n",
    "****__**** // 2 spaces\n",
    "\n",
    "***____*** // 4 spaces\n",
    "\n",
    "**______** // 6 spaces\n",
    "\n",
    "*________* // 8 spaces"
   ]
  },
  {
   "cell_type": "code",
   "execution_count": 32,
   "id": "fbccbfa4",
   "metadata": {},
   "outputs": [
    {
     "name": "stdout",
     "output_type": "stream",
     "text": [
      "5\n",
      "**********\n",
      "****  ****\n",
      "***    ***\n",
      "**      **\n",
      "*        *\n"
     ]
    }
   ],
   "source": [
    "n = int(input())\n",
    "\n",
    "for i in range(1,n+1):\n",
    "    #for star\n",
    "    for j in range(n-i+1):\n",
    "        print('*',end='')\n",
    "    #for space    \n",
    "    for k in range(1,i):\n",
    "        print(' ',end='')\n",
    "    #for space\n",
    "    for l in range(1,i):\n",
    "        print(' ',end='')\n",
    "    #for star\n",
    "    for m in range(n-i+1):\n",
    "        print('*',end='')\n",
    "    print()     "
   ]
  },
  {
   "cell_type": "code",
   "execution_count": null,
   "id": "92c505a5",
   "metadata": {},
   "outputs": [],
   "source": []
  },
  {
   "cell_type": "markdown",
   "id": "06998a9d",
   "metadata": {},
   "source": [
    "### Q6."
   ]
  },
  {
   "cell_type": "code",
   "execution_count": null,
   "id": "3cc4af94",
   "metadata": {},
   "outputs": [],
   "source": [
    "2*N - 1 rows\n",
    "\n",
    "* \n",
    "**\n",
    "***\n",
    "****\n",
    "*****\n",
    "****\n",
    "***\n",
    "**\n",
    "*"
   ]
  },
  {
   "cell_type": "code",
   "execution_count": 34,
   "id": "4fe709e3",
   "metadata": {},
   "outputs": [
    {
     "name": "stdout",
     "output_type": "stream",
     "text": [
      "2\n",
      "*\n",
      "**\n",
      "*\n"
     ]
    }
   ],
   "source": [
    "n = int(input())\n",
    "\n",
    "for i in range(0,2*n-1):\n",
    "    if i<n:\n",
    "        for j in range(i+1):\n",
    "            print('*',end='')\n",
    "        print()    \n",
    "    else:\n",
    "        for k in range(i,2*n-1):\n",
    "            print('*',end='')\n",
    "        print()    "
   ]
  },
  {
   "cell_type": "code",
   "execution_count": null,
   "id": "1149fa03",
   "metadata": {},
   "outputs": [],
   "source": []
  },
  {
   "cell_type": "markdown",
   "id": "2d55375d",
   "metadata": {},
   "source": [
    "### Q7. Print Primes"
   ]
  },
  {
   "cell_type": "code",
   "execution_count": 41,
   "id": "cc52facd",
   "metadata": {},
   "outputs": [
    {
     "name": "stdout",
     "output_type": "stream",
     "text": [
      "1\n"
     ]
    }
   ],
   "source": [
    "n= int(input())\n",
    "\n",
    "for j in range(1,n+1):    \n",
    "    if j>1:\n",
    "        for i in range(2,int(j/2)+1):\n",
    "            if j%i==0:\n",
    "                break\n",
    "        else:\n",
    "            print(j)"
   ]
  },
  {
   "cell_type": "code",
   "execution_count": 42,
   "id": "174834e9",
   "metadata": {},
   "outputs": [
    {
     "name": "stdout",
     "output_type": "stream",
     "text": [
      "11\n",
      "2\n",
      "3\n",
      "5\n",
      "7\n",
      "11\n"
     ]
    }
   ],
   "source": [
    "n = int(input())\n",
    "for j in range(1,n+1):\n",
    "    if j>1:\n",
    "        for i in range(2,int(j/2)+1):\n",
    "            if j%i==0:\n",
    "                break\n",
    "        else:\n",
    "            print(j)\n"
   ]
  },
  {
   "cell_type": "code",
   "execution_count": null,
   "id": "d797c172",
   "metadata": {},
   "outputs": [],
   "source": []
  },
  {
   "cell_type": "code",
   "execution_count": null,
   "id": "612cad3e",
   "metadata": {},
   "outputs": [],
   "source": []
  },
  {
   "cell_type": "code",
   "execution_count": null,
   "id": "76fb5bbd",
   "metadata": {},
   "outputs": [],
   "source": []
  },
  {
   "cell_type": "code",
   "execution_count": null,
   "id": "c8de5124",
   "metadata": {},
   "outputs": [],
   "source": []
  },
  {
   "cell_type": "code",
   "execution_count": null,
   "id": "4c419524",
   "metadata": {},
   "outputs": [],
   "source": []
  }
 ],
 "metadata": {
  "kernelspec": {
   "display_name": "Python 3 (ipykernel)",
   "language": "python",
   "name": "python3"
  },
  "language_info": {
   "codemirror_mode": {
    "name": "ipython",
    "version": 3
   },
   "file_extension": ".py",
   "mimetype": "text/x-python",
   "name": "python",
   "nbconvert_exporter": "python",
   "pygments_lexer": "ipython3",
   "version": "3.9.12"
  }
 },
 "nbformat": 4,
 "nbformat_minor": 5
}
