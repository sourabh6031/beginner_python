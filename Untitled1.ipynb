{
 "cells": [
  {
   "cell_type": "code",
   "execution_count": 6,
   "id": "2bb95d5a",
   "metadata": {},
   "outputs": [
    {
     "name": "stdout",
     "output_type": "stream",
     "text": [
      "5\n",
      "12\n",
      "13\n",
      "O\n"
     ]
    }
   ],
   "source": [
    "a = int(input())\n",
    "b = int(input())\n",
    "c = int(input())\n",
    "\n",
    "if a==b and b==c and a==c:\n",
    "    print('E')\n",
    "elif a==b or b==c or a==c:\n",
    "    print('I')\n",
    "elif (a**a == b**b + c**c) or (c**c == a**a + b**b) or (b**b == a**a + c**c):\n",
    "    print('R')\n",
    "else:\n",
    "    print('O') "
   ]
  },
  {
   "cell_type": "code",
   "execution_count": 13,
   "id": "538e37af",
   "metadata": {},
   "outputs": [
    {
     "name": "stdout",
     "output_type": "stream",
     "text": [
      "1\n",
      "2\n",
      "9\n",
      "O\n"
     ]
    }
   ],
   "source": [
    "a = int(input())\n",
    "b = int(input())\n",
    "c = int(input())\n",
    "\n",
    "if a==b and b==c and a==c:\n",
    "    print('E')\n",
    "elif (a*a == (b*b + c*c)) or (c*c == (a*a + b*b)) or (b*b == (a*a + c*c)):\n",
    "    print('R')    \n",
    "elif a==b or b==c or a==c:\n",
    "    print('I')\n",
    "else:\n",
    "    print('O') "
   ]
  },
  {
   "cell_type": "code",
   "execution_count": 15,
   "id": "7f7b7035",
   "metadata": {},
   "outputs": [
    {
     "name": "stdout",
     "output_type": "stream",
     "text": [
      "3\n"
     ]
    }
   ],
   "source": [
    "x = 2\n",
    "if x==2:\n",
    "    x = 3\n",
    "\n",
    "else:\n",
    "    x = 5\n",
    "print(x)"
   ]
  }
 ],
 "metadata": {
  "kernelspec": {
   "display_name": "Python 3 (ipykernel)",
   "language": "python",
   "name": "python3"
  },
  "language_info": {
   "codemirror_mode": {
    "name": "ipython",
    "version": 3
   },
   "file_extension": ".py",
   "mimetype": "text/x-python",
   "name": "python",
   "nbconvert_exporter": "python",
   "pygments_lexer": "ipython3",
   "version": "3.9.12"
  }
 },
 "nbformat": 4,
 "nbformat_minor": 5
}
