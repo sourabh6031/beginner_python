{
 "cells": [
  {
   "cell_type": "code",
   "execution_count": 21,
   "id": "b4e3d9fc",
   "metadata": {},
   "outputs": [],
   "source": [
    "def star(n):\n",
    "        n = int(n)\n",
    "        for i in range(n,0,-1):\n",
    "            if i==n:\n",
    "                print('*'*i,end='')\n",
    "            elif i==1:\n",
    "                print('*')\n",
    "            else:\n",
    "                print('*'+' '*(i-2)+'*',end='')\n",
    "            print()"
   ]
  },
  {
   "cell_type": "code",
   "execution_count": 22,
   "id": "32764744",
   "metadata": {},
   "outputs": [
    {
     "name": "stdout",
     "output_type": "stream",
     "text": [
      "*****\n",
      "*  *\n",
      "* *\n",
      "**\n",
      "*\n",
      "\n"
     ]
    }
   ],
   "source": [
    "star(5)"
   ]
  },
  {
   "cell_type": "code",
   "execution_count": null,
   "id": "5b1a697c",
   "metadata": {},
   "outputs": [],
   "source": []
  },
  {
   "cell_type": "code",
   "execution_count": 9,
   "id": "a433f21c",
   "metadata": {},
   "outputs": [],
   "source": [
    "def star(n):\n",
    "        t = int(input())\n",
    "        while t>0:\n",
    "            t-=1\n",
    "            n = int(input())\n",
    "            for i in range(n,0,-1):\n",
    "                if i==n:\n",
    "                    print('*'*i,end='')\n",
    "                elif i==1:\n",
    "                    print('*')\n",
    "                else:\n",
    "                    print('*'+' '*(i-2)+'*',end='')\n",
    "                print()"
   ]
  },
  {
   "cell_type": "code",
   "execution_count": 12,
   "id": "1abbf571",
   "metadata": {},
   "outputs": [
    {
     "name": "stdout",
     "output_type": "stream",
     "text": [
      "2\n",
      "3\n",
      "***\n",
      "**\n",
      "*\n",
      "\n",
      "3\n",
      "***\n",
      "**\n",
      "*\n",
      "\n"
     ]
    }
   ],
   "source": [
    "star(2)"
   ]
  },
  {
   "cell_type": "code",
   "execution_count": null,
   "id": "339cfc81",
   "metadata": {},
   "outputs": [],
   "source": []
  },
  {
   "cell_type": "code",
   "execution_count": 17,
   "id": "982dda1c",
   "metadata": {},
   "outputs": [],
   "source": [
    "def star(n):\n",
    "        t = int(input())\n",
    "        while t>0:\n",
    "            t-=1\n",
    "            n = int(n)\n",
    "            for i in range(n,0,-1):\n",
    "                if i==n:\n",
    "                    print('*'*i,end='')\n",
    "                elif i==1:\n",
    "                    print('*')\n",
    "                else:\n",
    "                    print('*'+' '*(i-2)+'*',end='')\n",
    "                print()"
   ]
  },
  {
   "cell_type": "code",
   "execution_count": 20,
   "id": "0ce08d08",
   "metadata": {},
   "outputs": [
    {
     "name": "stdout",
     "output_type": "stream",
     "text": [
      "1\n",
      "*****\n",
      "*  *\n",
      "* *\n",
      "**\n",
      "*\n",
      "\n"
     ]
    }
   ],
   "source": [
    "star(5)"
   ]
  },
  {
   "cell_type": "code",
   "execution_count": null,
   "id": "714c72a5",
   "metadata": {},
   "outputs": [],
   "source": []
  },
  {
   "cell_type": "code",
   "execution_count": 30,
   "id": "56c5b444",
   "metadata": {},
   "outputs": [],
   "source": [
    "def star(n):\n",
    "    n = int(n)\n",
    "    for i in range(n,0,-1):\n",
    "        if i==n:\n",
    "            print('*'*i,end='')\n",
    "        elif i==1:\n",
    "            print('*')\n",
    "        else:\n",
    "            print('*'+' '*(i-2)+'*',end='')\n",
    "        print()"
   ]
  },
  {
   "cell_type": "code",
   "execution_count": 32,
   "id": "af990e8d",
   "metadata": {},
   "outputs": [
    {
     "name": "stdout",
     "output_type": "stream",
     "text": [
      "*****\n",
      "*  *\n",
      "* *\n",
      "**\n",
      "*\n",
      "\n"
     ]
    }
   ],
   "source": [
    "star(5)"
   ]
  },
  {
   "cell_type": "code",
   "execution_count": null,
   "id": "6e0898e0",
   "metadata": {},
   "outputs": [],
   "source": []
  },
  {
   "cell_type": "code",
   "execution_count": null,
   "id": "28f00b0b",
   "metadata": {},
   "outputs": [],
   "source": []
  },
  {
   "cell_type": "code",
   "execution_count": 34,
   "id": "b8458ce2",
   "metadata": {},
   "outputs": [
    {
     "name": "stdout",
     "output_type": "stream",
     "text": [
      "a\n",
      "yes\n"
     ]
    }
   ],
   "source": [
    "c = input()\n",
    "vovels = 'aeiou'\n",
    "if c in vovels:\n",
    "    print('yes')\n",
    "else:\n",
    "    print('no')"
   ]
  },
  {
   "cell_type": "code",
   "execution_count": null,
   "id": "817a742c",
   "metadata": {},
   "outputs": [],
   "source": []
  },
  {
   "cell_type": "code",
   "execution_count": 45,
   "id": "0773892c",
   "metadata": {},
   "outputs": [
    {
     "name": "stdout",
     "output_type": "stream",
     "text": [
      "65\n"
     ]
    }
   ],
   "source": [
    "x = 55\n",
    "def hi():\n",
    "  return x\n",
    "x +=10\n",
    "print(hi())"
   ]
  },
  {
   "cell_type": "code",
   "execution_count": 46,
   "id": "bf7b68a9",
   "metadata": {},
   "outputs": [],
   "source": [
    "a = 10\n",
    "a += 25\n",
    "def b():\n",
    "    return a"
   ]
  },
  {
   "cell_type": "code",
   "execution_count": 47,
   "id": "016dcf2e",
   "metadata": {},
   "outputs": [
    {
     "data": {
      "text/plain": [
       "35"
      ]
     },
     "execution_count": 47,
     "metadata": {},
     "output_type": "execute_result"
    }
   ],
   "source": [
    "b()"
   ]
  },
  {
   "cell_type": "code",
   "execution_count": null,
   "id": "1f8603a2",
   "metadata": {},
   "outputs": [],
   "source": []
  },
  {
   "cell_type": "code",
   "execution_count": 53,
   "id": "6554f96e",
   "metadata": {},
   "outputs": [
    {
     "ename": "NameError",
     "evalue": "name 'num' is not defined",
     "output_type": "error",
     "traceback": [
      "\u001b[1;31m---------------------------------------------------------------------------\u001b[0m",
      "\u001b[1;31mNameError\u001b[0m                                 Traceback (most recent call last)",
      "Input \u001b[1;32mIn [53]\u001b[0m, in \u001b[0;36m<cell line: 4>\u001b[1;34m()\u001b[0m\n\u001b[0;32m      2\u001b[0m   \u001b[38;5;28;01mreturn\u001b[39;00m num \u001b[38;5;241m+\u001b[39m \u001b[38;5;241m55\u001b[39m\n\u001b[0;32m      3\u001b[0m f(\u001b[38;5;241m5\u001b[39m)\n\u001b[1;32m----> 4\u001b[0m \u001b[38;5;28mprint\u001b[39m(\u001b[43mnum\u001b[49m)\n",
      "\u001b[1;31mNameError\u001b[0m: name 'num' is not defined"
     ]
    }
   ],
   "source": [
    "def f(num):\n",
    "  return num + 55\n",
    "f(5)\n",
    "print(num)"
   ]
  },
  {
   "cell_type": "code",
   "execution_count": null,
   "id": "2889c926",
   "metadata": {},
   "outputs": [],
   "source": []
  },
  {
   "cell_type": "code",
   "execution_count": 56,
   "id": "edfdebee",
   "metadata": {},
   "outputs": [
    {
     "name": "stdout",
     "output_type": "stream",
     "text": [
      "i am function\n"
     ]
    },
    {
     "data": {
      "text/plain": [
       "'i am function'"
      ]
     },
     "execution_count": 56,
     "metadata": {},
     "output_type": "execute_result"
    }
   ],
   "source": [
    "def a():\n",
    "    return('i am function')\n",
    "s = a()\n",
    "print(s)\n",
    "a()    "
   ]
  },
  {
   "cell_type": "code",
   "execution_count": null,
   "id": "00043713",
   "metadata": {},
   "outputs": [],
   "source": []
  },
  {
   "cell_type": "code",
   "execution_count": 51,
   "id": "a7f1bb05",
   "metadata": {},
   "outputs": [
    {
     "name": "stdout",
     "output_type": "stream",
     "text": [
      "1 2 3 4 5 \n",
      "5 4 3 2 1 "
     ]
    }
   ],
   "source": [
    "n=5\n",
    "for i in range(1,n+1):\n",
    "            print(i,end=' ')\n",
    "print()        \n",
    "for i in range(n,0,-1):\n",
    "            print(i,end=' ')        "
   ]
  },
  {
   "cell_type": "code",
   "execution_count": null,
   "id": "022c9c4d",
   "metadata": {},
   "outputs": [],
   "source": []
  },
  {
   "cell_type": "code",
   "execution_count": null,
   "id": "8768b734",
   "metadata": {},
   "outputs": [],
   "source": []
  },
  {
   "cell_type": "code",
   "execution_count": 7,
   "id": "b7e4af08",
   "metadata": {},
   "outputs": [],
   "source": [
    "def main():\n",
    "    \n",
    "    n_len = int(input())\n",
    "    n = list(map(int,input().split()))\n",
    "    print(n)\n",
    "    x = int(input())\n",
    "    y = int(input())\n",
    "    n.insert(x-1,y)\n",
    "    \n",
    "    for i in n:\n",
    "        print(i,end=' ')"
   ]
  },
  {
   "cell_type": "code",
   "execution_count": 8,
   "id": "8b2776c6",
   "metadata": {},
   "outputs": [
    {
     "name": "stdout",
     "output_type": "stream",
     "text": [
      "5\n",
      "78965\n",
      "[78965]\n",
      "2\n",
      "2\n",
      "78965 2 "
     ]
    }
   ],
   "source": [
    "main()"
   ]
  },
  {
   "cell_type": "code",
   "execution_count": null,
   "id": "4c85fa1e",
   "metadata": {},
   "outputs": [],
   "source": []
  },
  {
   "cell_type": "code",
   "execution_count": 25,
   "id": "748b0234",
   "metadata": {},
   "outputs": [],
   "source": [
    "def main():\n",
    "    \n",
    "    n_len = int(input())\n",
    "    n = list(map(int,input().split()))\n",
    "    print(n)\n",
    "    x = int(input())\n",
    "    y = int(input())\n",
    "        \n",
    "    for i in n:\n",
    "        print(i,end=' ')"
   ]
  },
  {
   "cell_type": "code",
   "execution_count": 28,
   "id": "b75282e0",
   "metadata": {},
   "outputs": [
    {
     "name": "stdout",
     "output_type": "stream",
     "text": [
      "3\n",
      "789\n",
      "[789]\n",
      "1\n",
      "2\n",
      "None\n",
      "2 789 "
     ]
    }
   ],
   "source": [
    "main()"
   ]
  },
  {
   "cell_type": "code",
   "execution_count": null,
   "id": "6d1df7be",
   "metadata": {},
   "outputs": [],
   "source": []
  },
  {
   "cell_type": "code",
   "execution_count": 19,
   "id": "d998fe45",
   "metadata": {},
   "outputs": [
    {
     "data": {
      "text/plain": [
       "[1, 2, 3, 2, 5, 6]"
      ]
     },
     "execution_count": 19,
     "metadata": {},
     "output_type": "execute_result"
    }
   ],
   "source": [
    "a = [1,2,3,5,6]\n",
    "a.insert(3,2)\n",
    "a"
   ]
  },
  {
   "cell_type": "code",
   "execution_count": 17,
   "id": "4de98f58",
   "metadata": {},
   "outputs": [
    {
     "ename": "NameError",
     "evalue": "name 'insert' is not defined",
     "output_type": "error",
     "traceback": [
      "\u001b[1;31m---------------------------------------------------------------------------\u001b[0m",
      "\u001b[1;31mNameError\u001b[0m                                 Traceback (most recent call last)",
      "Input \u001b[1;32mIn [17]\u001b[0m, in \u001b[0;36m<cell line: 1>\u001b[1;34m()\u001b[0m\n\u001b[1;32m----> 1\u001b[0m help(\u001b[43minsert\u001b[49m)\n",
      "\u001b[1;31mNameError\u001b[0m: name 'insert' is not defined"
     ]
    }
   ],
   "source": []
  },
  {
   "cell_type": "code",
   "execution_count": null,
   "id": "2573a95a",
   "metadata": {},
   "outputs": [],
   "source": []
  },
  {
   "cell_type": "code",
   "execution_count": 23,
   "id": "db559b61",
   "metadata": {},
   "outputs": [
    {
     "ename": "AttributeError",
     "evalue": "'int' object has no attribute 'split'",
     "output_type": "error",
     "traceback": [
      "\u001b[1;31m---------------------------------------------------------------------------\u001b[0m",
      "\u001b[1;31mAttributeError\u001b[0m                            Traceback (most recent call last)",
      "Input \u001b[1;32mIn [23]\u001b[0m, in \u001b[0;36m<cell line: 2>\u001b[1;34m()\u001b[0m\n\u001b[0;32m      1\u001b[0m b \u001b[38;5;241m=\u001b[39m \u001b[38;5;241m12356\u001b[39m\n\u001b[1;32m----> 2\u001b[0m \u001b[43mb\u001b[49m\u001b[38;5;241;43m.\u001b[39;49m\u001b[43msplit\u001b[49m()\n\u001b[0;32m      3\u001b[0m b\n",
      "\u001b[1;31mAttributeError\u001b[0m: 'int' object has no attribute 'split'"
     ]
    }
   ],
   "source": [
    "b = 12356\n",
    "b.split()\n",
    "b"
   ]
  },
  {
   "cell_type": "code",
   "execution_count": null,
   "id": "4ca4240b",
   "metadata": {},
   "outputs": [],
   "source": []
  },
  {
   "cell_type": "code",
   "execution_count": null,
   "id": "daac607a",
   "metadata": {},
   "outputs": [],
   "source": []
  },
  {
   "cell_type": "code",
   "execution_count": 61,
   "id": "f470d33a",
   "metadata": {},
   "outputs": [],
   "source": [
    "def main():\n",
    "    \n",
    "    n = list(map(int,input().split()))\n",
    "    num = []\n",
    "    for i in n:\n",
    "        if (i) < 0:\n",
    "            num.append(i)\n",
    "    for i in num:\n",
    "        print(i,end=' ')"
   ]
  },
  {
   "cell_type": "code",
   "execution_count": 62,
   "id": "6bf99912",
   "metadata": {},
   "outputs": [
    {
     "name": "stdout",
     "output_type": "stream",
     "text": [
      "1 2 -6 9\n",
      "-6 "
     ]
    }
   ],
   "source": [
    "main()"
   ]
  },
  {
   "cell_type": "code",
   "execution_count": null,
   "id": "8401913f",
   "metadata": {},
   "outputs": [],
   "source": []
  },
  {
   "cell_type": "code",
   "execution_count": 67,
   "id": "cb74c313",
   "metadata": {},
   "outputs": [
    {
     "name": "stdout",
     "output_type": "stream",
     "text": [
      "8 9 "
     ]
    }
   ],
   "source": [
    "b = list(map(int,('8 9 7 -5').split()))\n",
    "for i in b:\n",
    "    if i>7:\n",
    "        print(i,end=' ')"
   ]
  },
  {
   "cell_type": "code",
   "execution_count": null,
   "id": "54fce72b",
   "metadata": {},
   "outputs": [],
   "source": []
  },
  {
   "cell_type": "code",
   "execution_count": 74,
   "id": "8f7e32b3",
   "metadata": {},
   "outputs": [
    {
     "data": {
      "text/plain": [
       "['5', '6', '9']"
      ]
     },
     "execution_count": 74,
     "metadata": {},
     "output_type": "execute_result"
    }
   ],
   "source": [
    "a = ('5 6 9'.split())\n",
    "a"
   ]
  },
  {
   "cell_type": "code",
   "execution_count": 75,
   "id": "070ca2e2",
   "metadata": {},
   "outputs": [
    {
     "data": {
      "text/plain": [
       "<map at 0x2b34ba81130>"
      ]
     },
     "execution_count": 75,
     "metadata": {},
     "output_type": "execute_result"
    }
   ],
   "source": [
    "map(int,a)"
   ]
  },
  {
   "cell_type": "code",
   "execution_count": 76,
   "id": "1da6a710",
   "metadata": {},
   "outputs": [
    {
     "data": {
      "text/plain": [
       "[5, 6, 9]"
      ]
     },
     "execution_count": 76,
     "metadata": {},
     "output_type": "execute_result"
    }
   ],
   "source": [
    "list(map(int,a))"
   ]
  },
  {
   "cell_type": "code",
   "execution_count": null,
   "id": "8c2314ab",
   "metadata": {},
   "outputs": [],
   "source": []
  },
  {
   "cell_type": "code",
   "execution_count": null,
   "id": "ab5e5e03",
   "metadata": {},
   "outputs": [],
   "source": []
  },
  {
   "cell_type": "code",
   "execution_count": 77,
   "id": "55377b27",
   "metadata": {},
   "outputs": [],
   "source": [
    "a = [1,2,3,5,6]\n",
    "s = 5"
   ]
  },
  {
   "cell_type": "code",
   "execution_count": 92,
   "id": "39346a59",
   "metadata": {},
   "outputs": [
    {
     "data": {
      "text/plain": [
       "[5, 4, 3, 2, 1]"
      ]
     },
     "execution_count": 92,
     "metadata": {},
     "output_type": "execute_result"
    }
   ],
   "source": [
    "d = []\n",
    "for i in range(5,0,-1):\n",
    "    d.append(i)\n",
    "d    "
   ]
  },
  {
   "cell_type": "code",
   "execution_count": null,
   "id": "ad1156e6",
   "metadata": {},
   "outputs": [],
   "source": []
  },
  {
   "cell_type": "code",
   "execution_count": null,
   "id": "360c298c",
   "metadata": {},
   "outputs": [],
   "source": []
  },
  {
   "cell_type": "markdown",
   "id": "7e88cd3f",
   "metadata": {},
   "source": [
    "### REVERSE NUMBER"
   ]
  },
  {
   "cell_type": "code",
   "execution_count": null,
   "id": "a10efe04",
   "metadata": {},
   "outputs": [],
   "source": []
  },
  {
   "cell_type": "code",
   "execution_count": 112,
   "id": "f40430d0",
   "metadata": {},
   "outputs": [],
   "source": []
  },
  {
   "cell_type": "code",
   "execution_count": 113,
   "id": "a890b4fe",
   "metadata": {
    "scrolled": true
   },
   "outputs": [
    {
     "name": "stdout",
     "output_type": "stream",
     "text": [
      "1 2 3 2 1\n",
      "1 2 3 2 1 "
     ]
    }
   ],
   "source": []
  },
  {
   "cell_type": "code",
   "execution_count": null,
   "id": "32dec7dc",
   "metadata": {},
   "outputs": [],
   "source": []
  },
  {
   "cell_type": "code",
   "execution_count": null,
   "id": "d8b4ff89",
   "metadata": {},
   "outputs": [],
   "source": [
    "# LISTS 1D- AD.Q3 RIGHT SHIFT"
   ]
  },
  {
   "cell_type": "code",
   "execution_count": 99,
   "id": "87b4aa21",
   "metadata": {},
   "outputs": [],
   "source": []
  },
  {
   "cell_type": "code",
   "execution_count": 113,
   "id": "2b170f9d",
   "metadata": {},
   "outputs": [],
   "source": [
    "def main():\n",
    "    n = int(input()) \n",
    "    a = list(map(int,input().split()))\n",
    "    for i in range(len(a)):\n",
    "        print(a[i-1],end=' ')"
   ]
  },
  {
   "cell_type": "code",
   "execution_count": 114,
   "id": "0192cc88",
   "metadata": {},
   "outputs": [
    {
     "name": "stdout",
     "output_type": "stream",
     "text": [
      "5\n",
      "9 8 7 6 5\n",
      "5 9 8 7 6 "
     ]
    }
   ],
   "source": [
    "main()"
   ]
  },
  {
   "cell_type": "code",
   "execution_count": 112,
   "id": "b89adb3b",
   "metadata": {},
   "outputs": [
    {
     "name": "stdout",
     "output_type": "stream",
     "text": [
      "5\n"
     ]
    },
    {
     "data": {
      "text/plain": [
       "5"
      ]
     },
     "execution_count": 112,
     "metadata": {},
     "output_type": "execute_result"
    }
   ],
   "source": [
    "n = int(input())\n",
    "n"
   ]
  },
  {
   "cell_type": "code",
   "execution_count": null,
   "id": "5447835f",
   "metadata": {},
   "outputs": [],
   "source": []
  },
  {
   "cell_type": "code",
   "execution_count": null,
   "id": "8799ea9d",
   "metadata": {},
   "outputs": [],
   "source": [
    "# REVERSE ARRAY"
   ]
  },
  {
   "cell_type": "code",
   "execution_count": null,
   "id": "29a74307",
   "metadata": {},
   "outputs": [],
   "source": []
  },
  {
   "cell_type": "code",
   "execution_count": 1,
   "id": "16df7dac",
   "metadata": {},
   "outputs": [
    {
     "name": "stdout",
     "output_type": "stream",
     "text": [
      "7 8 9\n"
     ]
    },
    {
     "data": {
      "text/plain": [
       "[7, 8, 9]"
      ]
     },
     "execution_count": 1,
     "metadata": {},
     "output_type": "execute_result"
    }
   ],
   "source": [
    "list(map(int,input().split()))"
   ]
  },
  {
   "cell_type": "code",
   "execution_count": null,
   "id": "da08bf92",
   "metadata": {},
   "outputs": [],
   "source": []
  },
  {
   "cell_type": "code",
   "execution_count": null,
   "id": "493fafdd",
   "metadata": {},
   "outputs": [],
   "source": []
  },
  {
   "cell_type": "code",
   "execution_count": 118,
   "id": "748a3b61",
   "metadata": {},
   "outputs": [],
   "source": [
    "def main():\n",
    "    \n",
    "    \n",
    "    array = list(map(int,input().split()))\n",
    "            \n",
    "    rev = []\n",
    "    for i in range(len(array)-1,-1,-1):\n",
    "        rev.append(array[i])\n",
    "    for i in rev:\n",
    "        print(i,end=' ')"
   ]
  },
  {
   "cell_type": "code",
   "execution_count": 119,
   "id": "f2e6e513",
   "metadata": {},
   "outputs": [
    {
     "name": "stdout",
     "output_type": "stream",
     "text": [
      "9 8 7\n",
      "7 8 9 "
     ]
    }
   ],
   "source": [
    "main()"
   ]
  },
  {
   "cell_type": "code",
   "execution_count": null,
   "id": "6a501ace",
   "metadata": {},
   "outputs": [],
   "source": []
  },
  {
   "cell_type": "code",
   "execution_count": null,
   "id": "36963a8c",
   "metadata": {},
   "outputs": [],
   "source": []
  },
  {
   "cell_type": "code",
   "execution_count": 130,
   "id": "0491fd6f",
   "metadata": {},
   "outputs": [],
   "source": [
    "def main1():\n",
    "    a = list(map(int,input().split()))\n",
    "    \n",
    "    arr=[]\n",
    "    for i  in range(len(a)-1,-1,-1):\n",
    "        arr.append(a[i])\n",
    "        \n",
    "\n",
    "    for x in arr:\n",
    "        print(x,end=' ')"
   ]
  },
  {
   "cell_type": "code",
   "execution_count": 131,
   "id": "29fb1a53",
   "metadata": {
    "scrolled": true
   },
   "outputs": [
    {
     "name": "stdout",
     "output_type": "stream",
     "text": [
      " 2 3 5\n",
      "5 3 2 "
     ]
    }
   ],
   "source": [
    "main1()"
   ]
  },
  {
   "cell_type": "code",
   "execution_count": null,
   "id": "28ed363e",
   "metadata": {},
   "outputs": [],
   "source": []
  },
  {
   "cell_type": "code",
   "execution_count": null,
   "id": "1a7a362e",
   "metadata": {},
   "outputs": [],
   "source": [
    "def main():\n",
    "    array = list(map(int,input().split()))\n",
    "            \n",
    "    rev = array[::-1]\n",
    "    \n",
    "    for i in rev:\n",
    "        print(i,end=' ')"
   ]
  },
  {
   "cell_type": "code",
   "execution_count": 122,
   "id": "5a9707f8",
   "metadata": {},
   "outputs": [
    {
     "name": "stdout",
     "output_type": "stream",
     "text": [
      "9 8 7\n",
      "7 8 9 "
     ]
    }
   ],
   "source": [
    "main()"
   ]
  },
  {
   "cell_type": "code",
   "execution_count": null,
   "id": "61fc4ffe",
   "metadata": {},
   "outputs": [],
   "source": []
  },
  {
   "cell_type": "code",
   "execution_count": null,
   "id": "dd7f3750",
   "metadata": {},
   "outputs": [],
   "source": []
  },
  {
   "cell_type": "code",
   "execution_count": 126,
   "id": "4cba839a",
   "metadata": {},
   "outputs": [
    {
     "name": "stdout",
     "output_type": "stream",
     "text": [
      "1 2 3 2 1\n"
     ]
    },
    {
     "data": {
      "text/plain": [
       "[1, 2, 3, 2, 1]"
      ]
     },
     "execution_count": 126,
     "metadata": {},
     "output_type": "execute_result"
    }
   ],
   "source": [
    "b=list(map(int,input().split()))\n",
    "b"
   ]
  },
  {
   "cell_type": "code",
   "execution_count": 127,
   "id": "4c9fbdac",
   "metadata": {},
   "outputs": [
    {
     "data": {
      "text/plain": [
       "[1, 2, 3, 2, 1]"
      ]
     },
     "execution_count": 127,
     "metadata": {},
     "output_type": "execute_result"
    }
   ],
   "source": [
    "c = b[::-1]\n",
    "c"
   ]
  },
  {
   "cell_type": "code",
   "execution_count": null,
   "id": "acf663c8",
   "metadata": {},
   "outputs": [],
   "source": []
  },
  {
   "cell_type": "code",
   "execution_count": null,
   "id": "37b0b80f",
   "metadata": {},
   "outputs": [],
   "source": []
  },
  {
   "cell_type": "code",
   "execution_count": 118,
   "id": "ca761d3e",
   "metadata": {},
   "outputs": [],
   "source": [
    "a = [2,2,3,8,0,5,6,8,7]"
   ]
  },
  {
   "cell_type": "code",
   "execution_count": 120,
   "id": "36b783c8",
   "metadata": {},
   "outputs": [
    {
     "data": {
      "text/plain": [
       "[2, 3]"
      ]
     },
     "execution_count": 120,
     "metadata": {},
     "output_type": "execute_result"
    }
   ],
   "source": [
    "a[1:3]"
   ]
  },
  {
   "cell_type": "code",
   "execution_count": 121,
   "id": "ba0a6d72",
   "metadata": {},
   "outputs": [
    {
     "data": {
      "text/plain": [
       "[2, 2, 3, 8, 0, 5, 6, 8, 7]"
      ]
     },
     "execution_count": 121,
     "metadata": {},
     "output_type": "execute_result"
    }
   ],
   "source": [
    "a[::]"
   ]
  },
  {
   "cell_type": "code",
   "execution_count": 122,
   "id": "dfeb5fb8",
   "metadata": {
    "scrolled": true
   },
   "outputs": [
    {
     "data": {
      "text/plain": [
       "[2, 2, 3, 8, 0, 5, 6, 8]"
      ]
     },
     "execution_count": 122,
     "metadata": {},
     "output_type": "execute_result"
    }
   ],
   "source": [
    "a[0:-1]"
   ]
  },
  {
   "cell_type": "code",
   "execution_count": null,
   "id": "518ed9c1",
   "metadata": {},
   "outputs": [],
   "source": []
  },
  {
   "cell_type": "code",
   "execution_count": 5,
   "id": "70a5c876",
   "metadata": {},
   "outputs": [],
   "source": [
    "def divisible():\n",
    "        \n",
    "    elements=[]\n",
    "    # YOUR CODE GOES HERE\n",
    "    #lst = list(map(int,input().split()))\n",
    "    for i in lst:\n",
    "         if i%5==0 and i%7==0 :\n",
    "                elements.append(i)\n",
    "    return elements"
   ]
  },
  {
   "cell_type": "code",
   "execution_count": 6,
   "id": "6bc450ef",
   "metadata": {},
   "outputs": [
    {
     "name": "stdout",
     "output_type": "stream",
     "text": [
      "2 5 7 21 55\n"
     ]
    },
    {
     "data": {
      "text/plain": [
       "[5, 7, 21, 55]"
      ]
     },
     "execution_count": 6,
     "metadata": {},
     "output_type": "execute_result"
    }
   ],
   "source": [
    "divisible()"
   ]
  },
  {
   "cell_type": "code",
   "execution_count": null,
   "id": "069f91e3",
   "metadata": {},
   "outputs": [],
   "source": []
  },
  {
   "cell_type": "code",
   "execution_count": null,
   "id": "35ab2528",
   "metadata": {},
   "outputs": [],
   "source": []
  },
  {
   "cell_type": "code",
   "execution_count": null,
   "id": "02917cdb",
   "metadata": {},
   "outputs": [],
   "source": [
    "-2,4,4,8,9\n",
    "0\n",
    "4,-2"
   ]
  },
  {
   "cell_type": "code",
   "execution_count": 12,
   "id": "b8bab431",
   "metadata": {},
   "outputs": [
    {
     "name": "stdout",
     "output_type": "stream",
     "text": [
      "-2 4 4 6 8 9\n"
     ]
    },
    {
     "data": {
      "text/plain": [
       "[-2, 4, 4, 6, 8, 9]"
      ]
     },
     "execution_count": 12,
     "metadata": {},
     "output_type": "execute_result"
    }
   ],
   "source": [
    "a = list(map(int,input().split()))\n",
    "b = 7\n",
    "a"
   ]
  },
  {
   "cell_type": "code",
   "execution_count": null,
   "id": "ac4cc8a4",
   "metadata": {},
   "outputs": [],
   "source": []
  },
  {
   "cell_type": "code",
   "execution_count": null,
   "id": "20028e2f",
   "metadata": {},
   "outputs": [],
   "source": [
    "#assighment-ceil/floor Q4"
   ]
  },
  {
   "cell_type": "code",
   "execution_count": 16,
   "id": "57bc3a25",
   "metadata": {},
   "outputs": [],
   "source": [
    "def find():\n",
    "    a = list(map(int,input().split()))\n",
    "    b = 7\n",
    "\n",
    "\n",
    "    ans = []\n",
    "    if b in a:\n",
    "        ans.append(b)\n",
    "        ans.append(b)\n",
    "        print(ans)\n",
    "        return ans\n",
    "\n",
    "    else:\n",
    "        ans = []\n",
    "        max = 0\n",
    "        min = 0\n",
    "        for i in a:\n",
    "            if i > b:\n",
    "                ans.append(i)\n",
    "        for i in a:\n",
    "            if i<b and i>min:\n",
    "                min = i\n",
    "            ans.append(i)\n",
    "    return ans        \n",
    "    "
   ]
  },
  {
   "cell_type": "code",
   "execution_count": 17,
   "id": "d04c72b3",
   "metadata": {},
   "outputs": [
    {
     "name": "stdout",
     "output_type": "stream",
     "text": [
      "-2 4 4 6 8 9\n"
     ]
    },
    {
     "data": {
      "text/plain": [
       "[8, 9, -2, 4, 4, 6, 8, 9]"
      ]
     },
     "execution_count": 17,
     "metadata": {},
     "output_type": "execute_result"
    }
   ],
   "source": [
    "find()"
   ]
  },
  {
   "cell_type": "code",
   "execution_count": null,
   "id": "f2fbcc98",
   "metadata": {},
   "outputs": [],
   "source": []
  },
  {
   "cell_type": "code",
   "execution_count": null,
   "id": "73b0a462",
   "metadata": {},
   "outputs": [],
   "source": []
  },
  {
   "cell_type": "code",
   "execution_count": 19,
   "id": "6c22f2dc",
   "metadata": {},
   "outputs": [
    {
     "name": "stdout",
     "output_type": "stream",
     "text": [
      "1 9 3 21\n"
     ]
    },
    {
     "data": {
      "text/plain": [
       "[9, 3]"
      ]
     },
     "execution_count": 19,
     "metadata": {},
     "output_type": "execute_result"
    }
   ],
   "source": [
    "def find():\n",
    "    a = list(map(int,input().split()))\n",
    "    b = 7\n",
    "\n",
    "\n",
    "    ans = []\n",
    "    if b in a:\n",
    "        ans.append(b)\n",
    "        ans.append(b)\n",
    "        return ans\n",
    "\n",
    "    else:\n",
    "        ans = []\n",
    "        max = 0\n",
    "        min = 0\n",
    "        for i in a:\n",
    "            if i > b:\n",
    "                ans.append(i)\n",
    "                break\n",
    "        for i in a:\n",
    "            if i<b and i>min:\n",
    "                min = i\n",
    "        ans.append(min)\n",
    "    return ans\n",
    "\n",
    "find()"
   ]
  },
  {
   "cell_type": "code",
   "execution_count": null,
   "id": "60ab6583",
   "metadata": {},
   "outputs": [],
   "source": []
  },
  {
   "cell_type": "code",
   "execution_count": 29,
   "id": "90efd54c",
   "metadata": {},
   "outputs": [
    {
     "name": "stdout",
     "output_type": "stream",
     "text": [
      "0 0\n",
      "8 1\n",
      "9 2\n",
      "7 3\n",
      "6 4\n"
     ]
    }
   ],
   "source": [
    "A = [0,8,9,7,6]\n",
    "for i in A:\n",
    "    print(i,A.index(i))"
   ]
  },
  {
   "cell_type": "code",
   "execution_count": null,
   "id": "fb541586",
   "metadata": {},
   "outputs": [],
   "source": []
  },
  {
   "cell_type": "markdown",
   "id": "5f4d2dca",
   "metadata": {},
   "source": [
    "### LIST SLICING"
   ]
  },
  {
   "cell_type": "code",
   "execution_count": null,
   "id": "29eb7060",
   "metadata": {},
   "outputs": [],
   "source": []
  },
  {
   "cell_type": "code",
   "execution_count": 3,
   "id": "51623bd0",
   "metadata": {},
   "outputs": [
    {
     "data": {
      "text/plain": [
       "[0, 8, 31, 9, 7, 6]"
      ]
     },
     "execution_count": 3,
     "metadata": {},
     "output_type": "execute_result"
    }
   ],
   "source": [
    "c = [0,8,9,7,6]\n",
    "c.insert(2,31)\n",
    "c"
   ]
  },
  {
   "cell_type": "code",
   "execution_count": null,
   "id": "9e71f754",
   "metadata": {},
   "outputs": [],
   "source": []
  },
  {
   "cell_type": "code",
   "execution_count": 34,
   "id": "36be0705",
   "metadata": {},
   "outputs": [
    {
     "name": "stdout",
     "output_type": "stream",
     "text": [
      "[2, 0, 3, 1]\n"
     ]
    }
   ],
   "source": [
    "a = [3,1,0,2]\n",
    "ans = []\n",
    "for i in a:\n",
    "    ans.insert(i,a.index(i))\n",
    "print(ans)    "
   ]
  },
  {
   "cell_type": "code",
   "execution_count": 37,
   "id": "97de32c2",
   "metadata": {},
   "outputs": [
    {
     "name": "stdout",
     "output_type": "stream",
     "text": [
      "[3, 0, 2, 1]\n"
     ]
    }
   ],
   "source": [
    "a = [3,2,1,0]\n",
    "ans = []\n",
    "for i in a:\n",
    "    ans.insert(i,a.index(i))\n",
    "print(ans)    "
   ]
  },
  {
   "cell_type": "code",
   "execution_count": null,
   "id": "2fd31d8c",
   "metadata": {},
   "outputs": [],
   "source": []
  },
  {
   "cell_type": "code",
   "execution_count": 42,
   "id": "869caa28",
   "metadata": {},
   "outputs": [
    {
     "data": {
      "text/plain": [
       "[2, 1, 3, 0]"
      ]
     },
     "execution_count": 42,
     "metadata": {},
     "output_type": "execute_result"
    }
   ],
   "source": [
    "def solve(A):\n",
    "    B=A[:]\n",
    "    for i in range(len(A)):\n",
    "        B[A[i]]=i\n",
    "    return B\n",
    "solve([3,1,0,2])"
   ]
  },
  {
   "cell_type": "code",
   "execution_count": null,
   "id": "3298db40",
   "metadata": {},
   "outputs": [],
   "source": []
  },
  {
   "cell_type": "code",
   "execution_count": 50,
   "id": "8ce8ace8",
   "metadata": {},
   "outputs": [
    {
     "name": "stdout",
     "output_type": "stream",
     "text": [
      "9\n",
      "2\n"
     ]
    }
   ],
   "source": [
    "a = [8,9,7,2,5,6,2,3]\n",
    "maxi = 0\n",
    "mini = a[0]\n",
    "for i in a:\n",
    "    if i>maxi:\n",
    "        maxi=i\n",
    "for i in a:\n",
    "    if i<mini:\n",
    "        mini=i\n",
    "print(maxi)\n",
    "print(mini)\n",
    "        \n"
   ]
  },
  {
   "cell_type": "code",
   "execution_count": null,
   "id": "35a2155e",
   "metadata": {},
   "outputs": [],
   "source": [
    "def solve(self, A):\n",
    "        maxi = 0\n",
    "        mini = A[0]\n",
    "        for i in A:\n",
    "            if i>maxi:\n",
    "                maxi=i\n",
    "        for i in A:\n",
    "            if i<mini:\n",
    "                mini=i\n",
    "        return maxi-mini"
   ]
  },
  {
   "cell_type": "code",
   "execution_count": null,
   "id": "235c1363",
   "metadata": {},
   "outputs": [],
   "source": []
  },
  {
   "cell_type": "code",
   "execution_count": null,
   "id": "05bbcb85",
   "metadata": {},
   "outputs": [],
   "source": [
    "#AD Q.1"
   ]
  },
  {
   "cell_type": "code",
   "execution_count": 59,
   "id": "0aa0e99f",
   "metadata": {},
   "outputs": [],
   "source": [
    "def solve(A, B):\n",
    "    \n",
    "    \n",
    "    ans = []\n",
    "\n",
    "    for i in range(len(A)):\n",
    "        if A[i]==B:\n",
    "            ans.append(A.index(i))\n",
    "            break\n",
    "\n",
    "    for i in A:\n",
    "        if i==B:\n",
    "            ans.insert(1,A.index(i))\n",
    "    return ans "
   ]
  },
  {
   "cell_type": "code",
   "execution_count": null,
   "id": "2d393df0",
   "metadata": {},
   "outputs": [],
   "source": []
  },
  {
   "cell_type": "code",
   "execution_count": null,
   "id": "bac5f48e",
   "metadata": {},
   "outputs": [],
   "source": [
    "# AD Q1 - first and last index\n",
    "# correct solution\n",
    "def solve(A, B):\n",
    "    \n",
    "    \n",
    "    ans = [0,0]\n",
    "\n",
    "    for i in range(len(A)):\n",
    "        if A[i]==B:\n",
    "            A[0]=i\n",
    "            break\n",
    "\n",
    "    for i in range(len(A)):\n",
    "        if A[i]==B:\n",
    "            A[1]=i\n",
    "    return ans "
   ]
  },
  {
   "cell_type": "code",
   "execution_count": null,
   "id": "7d37670d",
   "metadata": {},
   "outputs": [],
   "source": []
  },
  {
   "cell_type": "code",
   "execution_count": 60,
   "id": "a38e2600",
   "metadata": {},
   "outputs": [
    {
     "data": {
      "text/plain": [
       "[2, 4, 2]"
      ]
     },
     "execution_count": 60,
     "metadata": {},
     "output_type": "execute_result"
    }
   ],
   "source": [
    "solve([1,1,2,2,3,6],2)"
   ]
  },
  {
   "cell_type": "code",
   "execution_count": null,
   "id": "ed5cecaa",
   "metadata": {},
   "outputs": [],
   "source": []
  },
  {
   "cell_type": "code",
   "execution_count": 68,
   "id": "18762839",
   "metadata": {},
   "outputs": [
    {
     "ename": "TypeError",
     "evalue": "list() takes no keyword arguments",
     "output_type": "error",
     "traceback": [
      "\u001b[1;31m---------------------------------------------------------------------------\u001b[0m",
      "\u001b[1;31mTypeError\u001b[0m                                 Traceback (most recent call last)",
      "Input \u001b[1;32mIn [68]\u001b[0m, in \u001b[0;36m<cell line: 15>\u001b[1;34m()\u001b[0m\n\u001b[0;32m     12\u001b[0m     ans \u001b[38;5;241m=\u001b[39m \u001b[38;5;28mlist\u001b[39m(\u001b[38;5;28mmin\u001b[39m(c),\u001b[38;5;28mmax\u001b[39m(d),end\u001b[38;5;241m=\u001b[39m\u001b[38;5;124m'\u001b[39m\u001b[38;5;124m \u001b[39m\u001b[38;5;124m'\u001b[39m)\n\u001b[0;32m     13\u001b[0m     \u001b[38;5;28mprint\u001b[39m(ans)\n\u001b[1;32m---> 15\u001b[0m \u001b[43msolve\u001b[49m\u001b[43m(\u001b[49m\u001b[43m[\u001b[49m\u001b[38;5;241;43m1\u001b[39;49m\u001b[43m,\u001b[49m\u001b[43m \u001b[49m\u001b[38;5;241;43m9\u001b[39;49m\u001b[43m,\u001b[49m\u001b[43m \u001b[49m\u001b[38;5;241;43m9\u001b[39;49m\u001b[43m,\u001b[49m\u001b[43m \u001b[49m\u001b[38;5;241;43m9\u001b[39;49m\u001b[43m,\u001b[49m\u001b[43m \u001b[49m\u001b[38;5;241;43m10\u001b[39;49m\u001b[43m,\u001b[49m\u001b[43m \u001b[49m\u001b[38;5;241;43m21\u001b[39;49m\u001b[43m]\u001b[49m\u001b[43m,\u001b[49m\u001b[38;5;241;43m9\u001b[39;49m\u001b[43m)\u001b[49m\n",
      "Input \u001b[1;32mIn [68]\u001b[0m, in \u001b[0;36msolve\u001b[1;34m(A, B)\u001b[0m\n\u001b[0;32m     10\u001b[0m     \u001b[38;5;28;01mif\u001b[39;00m i \u001b[38;5;241m<\u001b[39m\u001b[38;5;241m=\u001b[39m B:\n\u001b[0;32m     11\u001b[0m         d\u001b[38;5;241m.\u001b[39mappend(i)\n\u001b[1;32m---> 12\u001b[0m ans \u001b[38;5;241m=\u001b[39m \u001b[38;5;28;43mlist\u001b[39;49m\u001b[43m(\u001b[49m\u001b[38;5;28;43mmin\u001b[39;49m\u001b[43m(\u001b[49m\u001b[43mc\u001b[49m\u001b[43m)\u001b[49m\u001b[43m,\u001b[49m\u001b[38;5;28;43mmax\u001b[39;49m\u001b[43m(\u001b[49m\u001b[43md\u001b[49m\u001b[43m)\u001b[49m\u001b[43m,\u001b[49m\u001b[43mend\u001b[49m\u001b[38;5;241;43m=\u001b[39;49m\u001b[38;5;124;43m'\u001b[39;49m\u001b[38;5;124;43m \u001b[39;49m\u001b[38;5;124;43m'\u001b[39;49m\u001b[43m)\u001b[49m\n\u001b[0;32m     13\u001b[0m \u001b[38;5;28mprint\u001b[39m(ans)\n",
      "\u001b[1;31mTypeError\u001b[0m: list() takes no keyword arguments"
     ]
    }
   ],
   "source": [
    "def solve(A, B):\n",
    "    \n",
    "    \n",
    "    c=[]\n",
    "    d=[]\n",
    "    for i in A:\n",
    "        if i >= B:\n",
    "            c.append(i)\n",
    "    for i in A:\n",
    "        if i <= B:\n",
    "            d.append(i)\n",
    "    ans = list(min(c),max(d),end=' ')\n",
    "    print(ans)\n",
    "\n",
    "solve([1, 9, 9, 9, 10, 21],9)"
   ]
  },
  {
   "cell_type": "code",
   "execution_count": null,
   "id": "37f0bf52",
   "metadata": {},
   "outputs": [],
   "source": []
  },
  {
   "cell_type": "code",
   "execution_count": null,
   "id": "3abfe91f",
   "metadata": {},
   "outputs": [],
   "source": []
  },
  {
   "cell_type": "code",
   "execution_count": null,
   "id": "f9c6d9b9",
   "metadata": {},
   "outputs": [],
   "source": [
    "#AD Q3 - inverse of the array\n",
    "\n"
   ]
  },
  {
   "cell_type": "code",
   "execution_count": null,
   "id": "72e6a7b7",
   "metadata": {},
   "outputs": [],
   "source": [
    "#correct but working\n",
    "def solve(A):\n",
    "    ans = len(A)*[0]\n",
    "    for i in range(len(A)):\n",
    "        ans[A[i]]=i\n",
    "    return ans    \n",
    "solve([3, 1, 0, 2])"
   ]
  },
  {
   "cell_type": "code",
   "execution_count": null,
   "id": "536162c5",
   "metadata": {},
   "outputs": [],
   "source": []
  },
  {
   "cell_type": "code",
   "execution_count": null,
   "id": "f32dab37",
   "metadata": {},
   "outputs": [],
   "source": []
  },
  {
   "cell_type": "code",
   "execution_count": 71,
   "id": "5186a441",
   "metadata": {},
   "outputs": [
    {
     "data": {
      "text/plain": [
       "[-1, -1, -1, -1]"
      ]
     },
     "execution_count": 71,
     "metadata": {},
     "output_type": "execute_result"
    }
   ],
   "source": [
    "a = [3, 1, 0, 2]\n",
    "len(a)\n",
    "[-1]*len(a)"
   ]
  },
  {
   "cell_type": "code",
   "execution_count": null,
   "id": "04558fdb",
   "metadata": {},
   "outputs": [],
   "source": []
  },
  {
   "cell_type": "code",
   "execution_count": 79,
   "id": "12fe23c9",
   "metadata": {},
   "outputs": [
    {
     "name": "stdout",
     "output_type": "stream",
     "text": [
      "8 9 6\n"
     ]
    },
    {
     "data": {
      "text/plain": [
       "['8', '9', '6']"
      ]
     },
     "execution_count": 79,
     "metadata": {},
     "output_type": "execute_result"
    }
   ],
   "source": [
    "a = input()\n",
    "a\n",
    "\n",
    "a.split()"
   ]
  },
  {
   "cell_type": "code",
   "execution_count": 86,
   "id": "99a7e9f6",
   "metadata": {},
   "outputs": [
    {
     "name": "stdout",
     "output_type": "stream",
     "text": [
      "8 5 6\n"
     ]
    },
    {
     "data": {
      "text/plain": [
       "[8, 5, 6]"
      ]
     },
     "execution_count": 86,
     "metadata": {},
     "output_type": "execute_result"
    }
   ],
   "source": [
    "a = input()\n",
    "a\n",
    "b = []\n",
    "a=a.split(' ')\n",
    "for i in a:\n",
    "    b.append(int(i))\n",
    "b    "
   ]
  },
  {
   "cell_type": "code",
   "execution_count": null,
   "id": "0ca54851",
   "metadata": {},
   "outputs": [],
   "source": []
  },
  {
   "cell_type": "code",
   "execution_count": null,
   "id": "fce1aadb",
   "metadata": {},
   "outputs": [],
   "source": []
  },
  {
   "cell_type": "markdown",
   "id": "da7cc96a",
   "metadata": {},
   "source": [
    "### Problem Solving"
   ]
  },
  {
   "cell_type": "code",
   "execution_count": 132,
   "id": "1a141d72",
   "metadata": {},
   "outputs": [],
   "source": [
    "a = 895\n"
   ]
  },
  {
   "cell_type": "code",
   "execution_count": 135,
   "id": "567d9492",
   "metadata": {},
   "outputs": [
    {
     "name": "stdout",
     "output_type": "stream",
     "text": [
      "8\n",
      "9\n",
      "5\n"
     ]
    }
   ],
   "source": [
    "for i in str(a):\n",
    "    print(i)"
   ]
  },
  {
   "cell_type": "code",
   "execution_count": 139,
   "id": "9f29da80",
   "metadata": {},
   "outputs": [
    {
     "name": "stdout",
     "output_type": "stream",
     "text": [
      "8 3 "
     ]
    }
   ],
   "source": [
    "c = [8,3]\n",
    "for i in c:\n",
    "    print(i,end=' ')"
   ]
  },
  {
   "cell_type": "code",
   "execution_count": 143,
   "id": "1947dee4",
   "metadata": {},
   "outputs": [
    {
     "name": "stdout",
     "output_type": "stream",
     "text": [
      "55 1\n"
     ]
    }
   ],
   "source": [
    "s = [5,9,3,1,55,8]\n",
    "print(max(s),min(s))"
   ]
  },
  {
   "cell_type": "code",
   "execution_count": 144,
   "id": "3c9262a2",
   "metadata": {},
   "outputs": [
    {
     "name": "stdout",
     "output_type": "stream",
     "text": [
      "8 9 6 5\n",
      "9 5\n"
     ]
    }
   ],
   "source": [
    "a = list(map(int,input().split()))\n",
    "    \n",
    "print(max(a),min(a))"
   ]
  },
  {
   "cell_type": "code",
   "execution_count": null,
   "id": "aed60b1c",
   "metadata": {},
   "outputs": [],
   "source": []
  },
  {
   "cell_type": "code",
   "execution_count": 142,
   "id": "e4bdcdb4",
   "metadata": {},
   "outputs": [
    {
     "name": "stdout",
     "output_type": "stream",
     "text": [
      "8 9 7 5\n"
     ]
    },
    {
     "data": {
      "text/plain": [
       "[9, 5, 0, 0]"
      ]
     },
     "execution_count": 142,
     "metadata": {},
     "output_type": "execute_result"
    }
   ],
   "source": [
    "a = list(map(int,input().split()))\n",
    "ans = [0,0]\n",
    "ans.insert(0,max(a))\n",
    "ans.insert(1,min(a))\n",
    "ans"
   ]
  },
  {
   "cell_type": "code",
   "execution_count": null,
   "id": "83c6783a",
   "metadata": {},
   "outputs": [],
   "source": []
  },
  {
   "cell_type": "code",
   "execution_count": null,
   "id": "9b9bcde8",
   "metadata": {},
   "outputs": [],
   "source": []
  },
  {
   "cell_type": "code",
   "execution_count": null,
   "id": "311c778d",
   "metadata": {},
   "outputs": [],
   "source": [
    "a = int(input())\n",
    "b = int(input())"
   ]
  },
  {
   "cell_type": "code",
   "execution_count": 151,
   "id": "62925648",
   "metadata": {
    "scrolled": true
   },
   "outputs": [
    {
     "name": "stdout",
     "output_type": "stream",
     "text": [
      "4\n",
      "2\n"
     ]
    },
    {
     "name": "stderr",
     "output_type": "stream",
     "text": [
      "\n",
      "KeyboardInterrupt\n",
      "\n"
     ]
    }
   ],
   "source": [
    "a = int(input())\n",
    "b = int(input())\n",
    "\n",
    "quotient = []\n",
    "remainder = []\n",
    "while a>=0:\n",
    "    quotient.append(a/b)\n",
    "    remainder.append(a%b)\n",
    "quotient\n",
    "remainder"
   ]
  },
  {
   "cell_type": "code",
   "execution_count": 149,
   "id": "5ce8e1e4",
   "metadata": {},
   "outputs": [
    {
     "data": {
      "text/plain": [
       "0"
      ]
     },
     "execution_count": 149,
     "metadata": {},
     "output_type": "execute_result"
    }
   ],
   "source": [
    "4%2"
   ]
  },
  {
   "cell_type": "code",
   "execution_count": 152,
   "id": "e62b68f7",
   "metadata": {},
   "outputs": [
    {
     "data": {
      "text/plain": [
       "2.0"
      ]
     },
     "execution_count": 152,
     "metadata": {},
     "output_type": "execute_result"
    }
   ],
   "source": [
    "4/2"
   ]
  },
  {
   "cell_type": "code",
   "execution_count": 157,
   "id": "a7a1086c",
   "metadata": {},
   "outputs": [
    {
     "name": "stdout",
     "output_type": "stream",
     "text": [
      "100"
     ]
    }
   ],
   "source": [
    "def base():\n",
    "    a = 4\n",
    "    b = 2\n",
    "\n",
    "    \n",
    "    quotient = []\n",
    "    remainder = []\n",
    "    while a>0:\n",
    "        quotient.append(int(a/b))\n",
    "        remainder.append(int(a%b))\n",
    "        a = int(a/b)\n",
    "    remainder = remainder[::-1]\n",
    "    for i in remainder:\n",
    "        print(i,end='')\n",
    "    \n",
    "base() "
   ]
  },
  {
   "cell_type": "code",
   "execution_count": 163,
   "id": "4800497a",
   "metadata": {},
   "outputs": [
    {
     "name": "stdout",
     "output_type": "stream",
     "text": [
      "[1, 0, 0]\n",
      "['1', '0', '0']\n"
     ]
    },
    {
     "data": {
      "text/plain": [
       "100"
      ]
     },
     "execution_count": 163,
     "metadata": {},
     "output_type": "execute_result"
    }
   ],
   "source": [
    "def base():\n",
    "    a = 4\n",
    "    b = 2\n",
    "    \n",
    "    \n",
    "    quotient = []\n",
    "    remainder = []\n",
    "    while a>0:\n",
    "        quotient.append(int(a/b))\n",
    "        remainder.append(int(a%b))\n",
    "        a = int(a/b)\n",
    "    remainder = remainder[::-1]\n",
    "    print(remainder)\n",
    "    s = [str(i) for i in remainder]\n",
    "    print(s)\n",
    "    res = int(\"\".join(s))\n",
    "    return res\n",
    "    \n",
    "base()"
   ]
  },
  {
   "cell_type": "code",
   "execution_count": null,
   "id": "7767fcf6",
   "metadata": {},
   "outputs": [],
   "source": []
  },
  {
   "cell_type": "code",
   "execution_count": null,
   "id": "c3147568",
   "metadata": {},
   "outputs": [],
   "source": []
  },
  {
   "cell_type": "code",
   "execution_count": null,
   "id": "9b245c5e",
   "metadata": {},
   "outputs": [],
   "source": []
  },
  {
   "cell_type": "code",
   "execution_count": null,
   "id": "c1c91d7c",
   "metadata": {},
   "outputs": [],
   "source": []
  },
  {
   "cell_type": "markdown",
   "id": "6827ba9c",
   "metadata": {},
   "source": [
    "### BEGINER LIST 2D"
   ]
  },
  {
   "cell_type": "code",
   "execution_count": 3,
   "id": "d45c9c8f",
   "metadata": {},
   "outputs": [
    {
     "data": {
      "text/plain": [
       "10"
      ]
     },
     "execution_count": 3,
     "metadata": {},
     "output_type": "execute_result"
    }
   ],
   "source": [
    "a = [2,3,5]\n",
    "sum(a)"
   ]
  },
  {
   "cell_type": "code",
   "execution_count": null,
   "id": "145250f1",
   "metadata": {},
   "outputs": [],
   "source": [
    "#Q2"
   ]
  },
  {
   "cell_type": "code",
   "execution_count": 2,
   "id": "6fd4abc7",
   "metadata": {},
   "outputs": [
    {
     "name": "stdout",
     "output_type": "stream",
     "text": [
      "[10, 6, 24]\n"
     ]
    }
   ],
   "source": [
    "A = [[2,3,5],[1,2,3],[7,8,9]]\n",
    "ans=[]\n",
    "for i in range(len(A)):\n",
    "    ans.append(sum(A[i]))\n",
    "print(ans)    \n"
   ]
  },
  {
   "cell_type": "code",
   "execution_count": 7,
   "id": "23b9f966",
   "metadata": {
    "scrolled": true
   },
   "outputs": [
    {
     "data": {
      "text/plain": [
       "[10, 6, 24]"
      ]
     },
     "execution_count": 7,
     "metadata": {},
     "output_type": "execute_result"
    }
   ],
   "source": [
    "def add():\n",
    "    A = [[2,3,5],[1,2,3],[7,8,9]]\n",
    "    ans = []\n",
    "    col_size = len(A[0])\n",
    "\n",
    "    for i in range(0, len(A)):\n",
    "        row_sum = 0\n",
    "        for j in range(0, len(A[i])):\n",
    "            row_sum+=A[i][j]\n",
    "        ans.append(row_sum)\n",
    "    return ans\n",
    "add()"
   ]
  },
  {
   "cell_type": "code",
   "execution_count": null,
   "id": "aa4c1a8b",
   "metadata": {},
   "outputs": [],
   "source": []
  },
  {
   "cell_type": "code",
   "execution_count": null,
   "id": "5f90f237",
   "metadata": {},
   "outputs": [],
   "source": []
  },
  {
   "cell_type": "code",
   "execution_count": null,
   "id": "fb508730",
   "metadata": {},
   "outputs": [],
   "source": [
    "# Q5"
   ]
  },
  {
   "cell_type": "code",
   "execution_count": 9,
   "id": "655fdeca",
   "metadata": {},
   "outputs": [
    {
     "data": {
      "text/plain": [
       "9"
      ]
     },
     "execution_count": 9,
     "metadata": {},
     "output_type": "execute_result"
    }
   ],
   "source": [
    "a=[[2,3,6],[9,8,7]]\n",
    "max(a[1])"
   ]
  },
  {
   "cell_type": "code",
   "execution_count": null,
   "id": "7abf1ca9",
   "metadata": {},
   "outputs": [],
   "source": []
  },
  {
   "cell_type": "code",
   "execution_count": null,
   "id": "eb11b45d",
   "metadata": {},
   "outputs": [],
   "source": [
    "# Q3"
   ]
  },
  {
   "cell_type": "code",
   "execution_count": 20,
   "id": "03f89dcc",
   "metadata": {},
   "outputs": [],
   "source": [
    "def solve( A, B):\n",
    "    ans = A[:]\n",
    "    for i in range(len(ans)):\n",
    "        for j in range(len(ans[i])):\n",
    "            ans[i][j] +=B[i][j]\n",
    "    return ans "
   ]
  },
  {
   "cell_type": "code",
   "execution_count": 21,
   "id": "2d0fe2a9",
   "metadata": {},
   "outputs": [
    {
     "data": {
      "text/plain": [
       "[[10, 10, 10], [10, 10, 10], [10, 10, 10]]"
      ]
     },
     "execution_count": 21,
     "metadata": {},
     "output_type": "execute_result"
    }
   ],
   "source": [
    "solve([[1, 2, 3],[4, 5, 6],[7, 8, 9]], [[9, 8, 7],[6, 5, 4],[3, 2, 1]])"
   ]
  },
  {
   "cell_type": "code",
   "execution_count": null,
   "id": "432d6ecf",
   "metadata": {},
   "outputs": [],
   "source": []
  },
  {
   "cell_type": "code",
   "execution_count": 24,
   "id": "4930b350",
   "metadata": {},
   "outputs": [
    {
     "name": "stdout",
     "output_type": "stream",
     "text": [
      "6\n",
      "3\n"
     ]
    }
   ],
   "source": [
    "a = [[1,2,3],[1,1,1]]\n",
    "for i in range(len(a)):\n",
    "    print(sum(a[i]))"
   ]
  },
  {
   "cell_type": "code",
   "execution_count": null,
   "id": "b59e38f2",
   "metadata": {},
   "outputs": [],
   "source": []
  },
  {
   "cell_type": "code",
   "execution_count": null,
   "id": "a5a83419",
   "metadata": {},
   "outputs": [],
   "source": [
    "# ADDITIONAL PROBLEM"
   ]
  },
  {
   "cell_type": "code",
   "execution_count": null,
   "id": "9c987c59",
   "metadata": {},
   "outputs": [],
   "source": [
    "# Q2"
   ]
  },
  {
   "cell_type": "code",
   "execution_count": null,
   "id": "719ef582",
   "metadata": {},
   "outputs": [],
   "source": [
    "def solve(self, A):\n",
    "    result = []\n",
    "    for i in range(len(A)):\n",
    "        result.append(sum(A[i]))\n",
    "    res1 = []\n",
    "    for i in range(len(A)):\n",
    "        res1.append(sum(A[i][0]))\n",
    "    result.append(sum(res1))\n",
    "        \n",
    "    res2=[]\n",
    "    for i in range(len(A)):\n",
    "        result.append(sum(A[i][]))\n",
    "    return result"
   ]
  },
  {
   "cell_type": "code",
   "execution_count": null,
   "id": "7a402723",
   "metadata": {},
   "outputs": [],
   "source": []
  },
  {
   "cell_type": "code",
   "execution_count": 25,
   "id": "3dcb58fb",
   "metadata": {},
   "outputs": [],
   "source": [
    "def solve(A):\n",
    "    result = []\n",
    "    for i in range(len(A[0])):\n",
    "        for j in range(len(A)):\n",
    "            result.append(sum(A[j][i]))\n",
    "    return result  "
   ]
  },
  {
   "cell_type": "code",
   "execution_count": 26,
   "id": "daa520e3",
   "metadata": {},
   "outputs": [
    {
     "ename": "TypeError",
     "evalue": "'int' object is not iterable",
     "output_type": "error",
     "traceback": [
      "\u001b[1;31m---------------------------------------------------------------------------\u001b[0m",
      "\u001b[1;31mTypeError\u001b[0m                                 Traceback (most recent call last)",
      "Input \u001b[1;32mIn [26]\u001b[0m, in \u001b[0;36m<cell line: 1>\u001b[1;34m()\u001b[0m\n\u001b[1;32m----> 1\u001b[0m \u001b[43msolve\u001b[49m\u001b[43m(\u001b[49m\u001b[43m[\u001b[49m\u001b[43m[\u001b[49m\u001b[38;5;241;43m1\u001b[39;49m\u001b[43m,\u001b[49m\u001b[43m \u001b[49m\u001b[38;5;241;43m2\u001b[39;49m\u001b[43m]\u001b[49m\u001b[43m,\u001b[49m\u001b[43m[\u001b[49m\u001b[38;5;241;43m4\u001b[39;49m\u001b[43m,\u001b[49m\u001b[43m \u001b[49m\u001b[38;5;241;43m5\u001b[39;49m\u001b[43m]\u001b[49m\u001b[43m,\u001b[49m\u001b[43m[\u001b[49m\u001b[38;5;241;43m8\u001b[39;49m\u001b[43m,\u001b[49m\u001b[43m \u001b[49m\u001b[38;5;241;43m9\u001b[39;49m\u001b[43m]\u001b[49m\u001b[43m]\u001b[49m\u001b[43m)\u001b[49m\n",
      "Input \u001b[1;32mIn [25]\u001b[0m, in \u001b[0;36msolve\u001b[1;34m(A)\u001b[0m\n\u001b[0;32m      3\u001b[0m \u001b[38;5;28;01mfor\u001b[39;00m i \u001b[38;5;129;01min\u001b[39;00m \u001b[38;5;28mrange\u001b[39m(\u001b[38;5;28mlen\u001b[39m(A[\u001b[38;5;241m0\u001b[39m])):\n\u001b[0;32m      4\u001b[0m     \u001b[38;5;28;01mfor\u001b[39;00m j \u001b[38;5;129;01min\u001b[39;00m \u001b[38;5;28mrange\u001b[39m(\u001b[38;5;28mlen\u001b[39m(A)):\n\u001b[1;32m----> 5\u001b[0m         result\u001b[38;5;241m.\u001b[39mappend(\u001b[38;5;28;43msum\u001b[39;49m\u001b[43m(\u001b[49m\u001b[43mA\u001b[49m\u001b[43m[\u001b[49m\u001b[43mj\u001b[49m\u001b[43m]\u001b[49m\u001b[43m[\u001b[49m\u001b[43mi\u001b[49m\u001b[43m]\u001b[49m\u001b[43m)\u001b[49m)\n\u001b[0;32m      6\u001b[0m \u001b[38;5;28;01mreturn\u001b[39;00m result\n",
      "\u001b[1;31mTypeError\u001b[0m: 'int' object is not iterable"
     ]
    }
   ],
   "source": [
    "solve([[1, 2],[4, 5],[8, 9]])"
   ]
  },
  {
   "cell_type": "code",
   "execution_count": null,
   "id": "dc737d66",
   "metadata": {},
   "outputs": [],
   "source": []
  },
  {
   "cell_type": "code",
   "execution_count": null,
   "id": "1b4327b0",
   "metadata": {},
   "outputs": [],
   "source": [
    "def solve( A):\n",
    "        result = []\n",
    "        for i in range(len(A)):\n",
    "            result.append(sum(A[i]))\n",
    "        \n",
    "        for k in range(len(A[0])):\n",
    "            res1 = 0\n",
    "            for j in range(len(A)):\n",
    "                res1 += A[j][k]\n",
    "            result.append(res1)\n",
    "        return result\n",
    "solve([[1, 2],[4, 5],[8, 9]])"
   ]
  },
  {
   "cell_type": "code",
   "execution_count": null,
   "id": "ec2e309d",
   "metadata": {},
   "outputs": [],
   "source": []
  },
  {
   "cell_type": "code",
   "execution_count": null,
   "id": "5c64416c",
   "metadata": {},
   "outputs": [],
   "source": []
  },
  {
   "cell_type": "code",
   "execution_count": null,
   "id": "035feea7",
   "metadata": {},
   "outputs": [],
   "source": [
    "# AD Q5."
   ]
  },
  {
   "cell_type": "code",
   "execution_count": 71,
   "id": "7690eebd",
   "metadata": {},
   "outputs": [],
   "source": [
    " A = [[6, 1, 1],\n",
    "      [4, -2, 5],\n",
    "      [2, 8, 7]]\n",
    "    "
   ]
  },
  {
   "cell_type": "code",
   "execution_count": 72,
   "id": "d6bc2239",
   "metadata": {},
   "outputs": [
    {
     "data": {
      "text/plain": [
       "[[6, 1, 1], [4, -2, 5], [2, 8, 7]]"
      ]
     },
     "execution_count": 72,
     "metadata": {},
     "output_type": "execute_result"
    }
   ],
   "source": [
    "A"
   ]
  },
  {
   "cell_type": "code",
   "execution_count": 73,
   "id": "36b6447c",
   "metadata": {},
   "outputs": [
    {
     "data": {
      "text/plain": [
       "[4, -2, 5]"
      ]
     },
     "execution_count": 73,
     "metadata": {},
     "output_type": "execute_result"
    }
   ],
   "source": [
    "A[1]"
   ]
  },
  {
   "cell_type": "code",
   "execution_count": null,
   "id": "7fe3ff45",
   "metadata": {},
   "outputs": [],
   "source": []
  },
  {
   "cell_type": "code",
   "execution_count": 74,
   "id": "84e4b60e",
   "metadata": {},
   "outputs": [],
   "source": [
    " A = [[1, 2],\n",
    "      [3, 4]]"
   ]
  },
  {
   "cell_type": "code",
   "execution_count": 75,
   "id": "1cdf0f92",
   "metadata": {},
   "outputs": [
    {
     "data": {
      "text/plain": [
       "[[1, 2], [3, 4]]"
      ]
     },
     "execution_count": 75,
     "metadata": {},
     "output_type": "execute_result"
    }
   ],
   "source": [
    "A"
   ]
  },
  {
   "cell_type": "code",
   "execution_count": null,
   "id": "6e350a5b",
   "metadata": {},
   "outputs": [],
   "source": [
    "#solution\n",
    "\n",
    "if len(A[0]) == 2:\n",
    "    print(A[0][0]*A[1][1] - A[0][1]*A[1][0])\n",
    "\n",
    "else:\n",
    "    print(A[0][0]*(A[1][1]*A[2][2] - A[1][2]*A[2][1]) - A[0][1]*(A[1][0]*A[2][2]-A[1][2]*A[2][0]) + A[0][2]*(A[1][0]*A[2][1]-A[1][1]*A[2][0]))"
   ]
  },
  {
   "cell_type": "code",
   "execution_count": null,
   "id": "7e78cba3",
   "metadata": {},
   "outputs": [],
   "source": []
  },
  {
   "cell_type": "code",
   "execution_count": null,
   "id": "df21a9a3",
   "metadata": {},
   "outputs": [],
   "source": [
    "#Q1"
   ]
  },
  {
   "cell_type": "code",
   "execution_count": 44,
   "id": "b6f70ec6",
   "metadata": {},
   "outputs": [],
   "source": [
    " A = [[1, 2],\n",
    "      [3, 4]]"
   ]
  },
  {
   "cell_type": "code",
   "execution_count": 45,
   "id": "0b0fe249",
   "metadata": {},
   "outputs": [],
   "source": [
    " B = [[4, 3],\n",
    "      [2, 1]]"
   ]
  },
  {
   "cell_type": "code",
   "execution_count": 36,
   "id": "4038e9be",
   "metadata": {},
   "outputs": [],
   "source": [
    "rowA = len(A)"
   ]
  },
  {
   "cell_type": "code",
   "execution_count": 37,
   "id": "e928be78",
   "metadata": {},
   "outputs": [],
   "source": [
    "rowB = len(B)"
   ]
  },
  {
   "cell_type": "code",
   "execution_count": 38,
   "id": "8691f6a6",
   "metadata": {},
   "outputs": [],
   "source": [
    "colA = len(A[0])"
   ]
  },
  {
   "cell_type": "code",
   "execution_count": 39,
   "id": "a3b4bf6f",
   "metadata": {},
   "outputs": [],
   "source": [
    "colB = len(B[0])"
   ]
  },
  {
   "cell_type": "code",
   "execution_count": 46,
   "id": "0d513651",
   "metadata": {},
   "outputs": [],
   "source": [
    "rows, cols = (rowA, colB) # p x q\n",
    "C = [[0 for i in range(cols)] for j in range(rows)] # gen C"
   ]
  },
  {
   "cell_type": "code",
   "execution_count": 41,
   "id": "6e612f48",
   "metadata": {},
   "outputs": [
    {
     "data": {
      "text/plain": [
       "[[0, 0], [0, 0]]"
      ]
     },
     "execution_count": 41,
     "metadata": {},
     "output_type": "execute_result"
    }
   ],
   "source": [
    "C"
   ]
  },
  {
   "cell_type": "code",
   "execution_count": 42,
   "id": "0da85436",
   "metadata": {},
   "outputs": [
    {
     "data": {
      "text/plain": [
       "(2, 2)"
      ]
     },
     "execution_count": 42,
     "metadata": {},
     "output_type": "execute_result"
    }
   ],
   "source": [
    "rows,cols"
   ]
  },
  {
   "cell_type": "code",
   "execution_count": 47,
   "id": "74969304",
   "metadata": {},
   "outputs": [
    {
     "name": "stdout",
     "output_type": "stream",
     "text": [
      "[[8, 5], [20, 13]]\n"
     ]
    }
   ],
   "source": [
    "for i in range(rowA):\n",
    "        for j in range(colB):\n",
    "            for k in range(rowB):\n",
    "                row = A[i][k]\n",
    "                col = B[k][j]\n",
    "                C[i][j] += row * col\n",
    "\n",
    "print(C)"
   ]
  },
  {
   "cell_type": "code",
   "execution_count": null,
   "id": "03eaadf7",
   "metadata": {},
   "outputs": [],
   "source": []
  },
  {
   "cell_type": "code",
   "execution_count": null,
   "id": "24025a08",
   "metadata": {},
   "outputs": [],
   "source": []
  },
  {
   "cell_type": "markdown",
   "id": "8d6ca3a4",
   "metadata": {},
   "source": [
    "### BEGINER - STRINGS1"
   ]
  },
  {
   "cell_type": "code",
   "execution_count": null,
   "id": "f67aa326",
   "metadata": {},
   "outputs": [],
   "source": []
  },
  {
   "cell_type": "code",
   "execution_count": 27,
   "id": "d83aacbc",
   "metadata": {},
   "outputs": [
    {
     "name": "stdout",
     "output_type": "stream",
     "text": [
      "sf\n"
     ]
    }
   ],
   "source": [
    "print('sf')"
   ]
  },
  {
   "cell_type": "code",
   "execution_count": 29,
   "id": "13f4206f",
   "metadata": {},
   "outputs": [
    {
     "name": "stdout",
     "output_type": "stream",
     "text": [
      "'sf'\n"
     ]
    }
   ],
   "source": [
    "print(\"'sf'\")"
   ]
  },
  {
   "cell_type": "code",
   "execution_count": null,
   "id": "e3501c19",
   "metadata": {},
   "outputs": [],
   "source": []
  },
  {
   "cell_type": "code",
   "execution_count": null,
   "id": "cc5937dd",
   "metadata": {},
   "outputs": [],
   "source": []
  },
  {
   "cell_type": "code",
   "execution_count": 32,
   "id": "92866a91",
   "metadata": {},
   "outputs": [
    {
     "name": "stdout",
     "output_type": "stream",
     "text": [
      "3\n"
     ]
    }
   ],
   "source": [
    "a = 'sourabh'\n",
    "vovel = ['a','e','i','o','u']\n",
    "count = 0\n",
    "for i in a:\n",
    "    if i in vovel:\n",
    "        count += 1\n",
    "print(count)        "
   ]
  },
  {
   "cell_type": "code",
   "execution_count": 35,
   "id": "7002e65b",
   "metadata": {},
   "outputs": [
    {
     "data": {
      "text/plain": [
       "'asdf'"
      ]
     },
     "execution_count": 35,
     "metadata": {},
     "output_type": "execute_result"
    }
   ],
   "source": [
    "a = 'ASDF' \n",
    "a.lower()"
   ]
  },
  {
   "cell_type": "code",
   "execution_count": null,
   "id": "bec89ec7",
   "metadata": {},
   "outputs": [],
   "source": []
  },
  {
   "cell_type": "code",
   "execution_count": 37,
   "id": "3917eeee",
   "metadata": {},
   "outputs": [
    {
     "data": {
      "text/plain": [
       "['Jadeja', 'Rahul', 'Rohit', 'Dhoni', 'Virat']"
      ]
     },
     "execution_count": 37,
     "metadata": {},
     "output_type": "execute_result"
    }
   ],
   "source": [
    "players = ['Jadeja','Rahul','Rohit']\n",
    "players += ['Dhoni','Virat']\n",
    "players"
   ]
  },
  {
   "cell_type": "code",
   "execution_count": null,
   "id": "696203c1",
   "metadata": {},
   "outputs": [],
   "source": []
  },
  {
   "cell_type": "code",
   "execution_count": 40,
   "id": "1b2f4993",
   "metadata": {},
   "outputs": [
    {
     "data": {
      "text/plain": [
       "['Jadeja', 'Rahul', 'Rohit', 'Dhoni', 'Virat']"
      ]
     },
     "execution_count": 40,
     "metadata": {},
     "output_type": "execute_result"
    }
   ],
   "source": [
    "players = ['Jadeja','Rahul','Rohit']\n",
    "players[len(players):] = ['Dhoni','Virat']\n",
    "players"
   ]
  },
  {
   "cell_type": "code",
   "execution_count": null,
   "id": "60ef80b3",
   "metadata": {},
   "outputs": [],
   "source": []
  },
  {
   "cell_type": "code",
   "execution_count": 43,
   "id": "747fc6f6",
   "metadata": {},
   "outputs": [
    {
     "name": "stdout",
     "output_type": "stream",
     "text": [
      "olleh\n"
     ]
    }
   ],
   "source": [
    "s = 'hello'\n",
    "print(s[::-1])"
   ]
  },
  {
   "cell_type": "code",
   "execution_count": null,
   "id": "89751df0",
   "metadata": {},
   "outputs": [],
   "source": []
  },
  {
   "cell_type": "code",
   "execution_count": 49,
   "id": "d0f147d7",
   "metadata": {},
   "outputs": [
    {
     "data": {
      "text/plain": [
       "'dogdog'"
      ]
     },
     "execution_count": 49,
     "metadata": {},
     "output_type": "execute_result"
    }
   ],
   "source": [
    "a= 'dog'\n",
    "a=a*2\n",
    "a"
   ]
  },
  {
   "cell_type": "code",
   "execution_count": 52,
   "id": "d93fcab5",
   "metadata": {},
   "outputs": [
    {
     "name": "stdout",
     "output_type": "stream",
     "text": [
      "souabh\n"
     ]
    }
   ],
   "source": [
    "a = 'souRabh'\n",
    "for i in a:\n",
    "    if i.isupper():\n",
    "        a=a.replace(i,'')\n",
    "print(a)        "
   ]
  },
  {
   "cell_type": "code",
   "execution_count": null,
   "id": "b7068541",
   "metadata": {},
   "outputs": [],
   "source": []
  },
  {
   "cell_type": "code",
   "execution_count": 53,
   "id": "dfe2e3fd",
   "metadata": {},
   "outputs": [
    {
     "name": "stdout",
     "output_type": "stream",
     "text": [
      "s##r#bh\n"
     ]
    }
   ],
   "source": [
    "a = 'sourabh'\n",
    "v = 'aeiou'\n",
    "for i in a:\n",
    "    if i in v:\n",
    "        a = a.replace(i,'#')\n",
    "print(a)        "
   ]
  },
  {
   "cell_type": "code",
   "execution_count": null,
   "id": "267d5a29",
   "metadata": {},
   "outputs": [],
   "source": []
  },
  {
   "cell_type": "code",
   "execution_count": null,
   "id": "6737b0f3",
   "metadata": {},
   "outputs": [],
   "source": []
  },
  {
   "cell_type": "code",
   "execution_count": 59,
   "id": "68104ac8",
   "metadata": {},
   "outputs": [
    {
     "name": "stdout",
     "output_type": "stream",
     "text": [
      "s 1\n",
      "o 1\n",
      "u 1\n",
      "r 1\n",
      "a 1\n",
      "b 1\n",
      "h 1\n"
     ]
    }
   ],
   "source": [
    "a = 'sourabh'\n",
    "for i in a:\n",
    "    frequency = a.count(i)\n",
    "    print(str(i),str(frequency))    "
   ]
  },
  {
   "cell_type": "code",
   "execution_count": 61,
   "id": "065802a9",
   "metadata": {},
   "outputs": [
    {
     "data": {
      "text/plain": [
       "['a', 'b', 'h', 'o', 'r', 's', 'u']"
      ]
     },
     "execution_count": 61,
     "metadata": {},
     "output_type": "execute_result"
    }
   ],
   "source": [
    "a = 'sourabh'\n",
    "sorted(a)"
   ]
  },
  {
   "cell_type": "code",
   "execution_count": 62,
   "id": "849754a5",
   "metadata": {},
   "outputs": [
    {
     "data": {
      "text/plain": [
       "False"
      ]
     },
     "execution_count": 62,
     "metadata": {},
     "output_type": "execute_result"
    }
   ],
   "source": [
    "s = ['a', 'b', 'h']\n",
    "z = ['b','a','h']\n",
    "s==z\n"
   ]
  },
  {
   "cell_type": "code",
   "execution_count": 63,
   "id": "20da0dc4",
   "metadata": {},
   "outputs": [
    {
     "data": {
      "text/plain": [
       "True"
      ]
     },
     "execution_count": 63,
     "metadata": {},
     "output_type": "execute_result"
    }
   ],
   "source": [
    "s = ['a', 'b', 'h']\n",
    "z = ['a','b','h']\n",
    "s==z"
   ]
  },
  {
   "cell_type": "code",
   "execution_count": 64,
   "id": "36350428",
   "metadata": {},
   "outputs": [
    {
     "data": {
      "text/plain": [
       "False"
      ]
     },
     "execution_count": 64,
     "metadata": {},
     "output_type": "execute_result"
    }
   ],
   "source": [
    "s = ['a', 'b', 'h']\n",
    "z = ['a','b','h','h']\n",
    "s==z"
   ]
  },
  {
   "cell_type": "code",
   "execution_count": 67,
   "id": "8af84304",
   "metadata": {},
   "outputs": [
    {
     "data": {
      "text/plain": [
       "Counter({'s': 1, 'o': 1, 'u': 1, 'r': 1, 'a': 1, 'b': 1, 'h': 1})"
      ]
     },
     "execution_count": 67,
     "metadata": {},
     "output_type": "execute_result"
    }
   ],
   "source": [
    "from collections import Counter\n",
    "a = 'sourabh'\n",
    "a = Counter(a)"
   ]
  },
  {
   "cell_type": "code",
   "execution_count": 68,
   "id": "4c45eef9",
   "metadata": {},
   "outputs": [
    {
     "name": "stdout",
     "output_type": "stream",
     "text": [
      "s\n",
      "o\n",
      "u\n",
      "r\n",
      "a\n",
      "b\n",
      "h\n"
     ]
    }
   ],
   "source": [
    "from collections import Counter\n",
    "a = 'sourabh'\n",
    "z = Counter(a)\n",
    "for i in z:\n",
    "    print(i)"
   ]
  },
  {
   "cell_type": "code",
   "execution_count": 70,
   "id": "4d741293",
   "metadata": {},
   "outputs": [
    {
     "name": "stdout",
     "output_type": "stream",
     "text": [
      "False\n"
     ]
    }
   ],
   "source": [
    "a = 'sourabh'\n",
    "b = 'sheetal'\n",
    "honey = []\n",
    "bunny = []\n",
    "for i in a:\n",
    "    honey.append(i) \n",
    "for i in b:\n",
    "    bunny.append(i)\n",
    "print(honey == bunny)    "
   ]
  },
  {
   "cell_type": "code",
   "execution_count": null,
   "id": "abb2ff63",
   "metadata": {},
   "outputs": [],
   "source": []
  },
  {
   "cell_type": "code",
   "execution_count": null,
   "id": "b80704d3",
   "metadata": {},
   "outputs": [],
   "source": []
  },
  {
   "cell_type": "code",
   "execution_count": 13,
   "id": "97ea09fc",
   "metadata": {},
   "outputs": [],
   "source": [
    " A = [[1, 2],\n",
    "      [3, 4]]"
   ]
  },
  {
   "cell_type": "code",
   "execution_count": 14,
   "id": "79e276ca",
   "metadata": {},
   "outputs": [
    {
     "data": {
      "text/plain": [
       "[[1, 2], [3, 4]]"
      ]
     },
     "execution_count": 14,
     "metadata": {},
     "output_type": "execute_result"
    }
   ],
   "source": [
    "A"
   ]
  },
  {
   "cell_type": "code",
   "execution_count": 12,
   "id": "c8d599d3",
   "metadata": {},
   "outputs": [
    {
     "data": {
      "text/plain": [
       "1"
      ]
     },
     "execution_count": 12,
     "metadata": {},
     "output_type": "execute_result"
    }
   ],
   "source": [
    "A[0][0]"
   ]
  },
  {
   "cell_type": "code",
   "execution_count": 15,
   "id": "f5e83d76",
   "metadata": {},
   "outputs": [
    {
     "name": "stdout",
     "output_type": "stream",
     "text": [
      "-2\n"
     ]
    }
   ],
   "source": [
    " print(A[0][0]*A[1][1] - A[0][1]*A[1][0])\n"
   ]
  },
  {
   "cell_type": "code",
   "execution_count": null,
   "id": "d9bc07bf",
   "metadata": {},
   "outputs": [],
   "source": []
  },
  {
   "cell_type": "code",
   "execution_count": null,
   "id": "32a6913f",
   "metadata": {},
   "outputs": [],
   "source": []
  },
  {
   "cell_type": "code",
   "execution_count": null,
   "id": "0c01582e",
   "metadata": {},
   "outputs": [],
   "source": []
  },
  {
   "cell_type": "code",
   "execution_count": 3,
   "id": "42c9f7f1",
   "metadata": {},
   "outputs": [],
   "source": [
    " A = [[6, 1, 1],\n",
    "      [4, -2, 5],\n",
    "      [2, 8, 7]]"
   ]
  },
  {
   "cell_type": "code",
   "execution_count": 4,
   "id": "6c40dddc",
   "metadata": {},
   "outputs": [
    {
     "data": {
      "text/plain": [
       "[[6, 1, 1], [4, -2, 5], [2, 8, 7]]"
      ]
     },
     "execution_count": 4,
     "metadata": {},
     "output_type": "execute_result"
    }
   ],
   "source": [
    "A"
   ]
  },
  {
   "cell_type": "code",
   "execution_count": null,
   "id": "9030f098",
   "metadata": {},
   "outputs": [],
   "source": []
  },
  {
   "cell_type": "code",
   "execution_count": 16,
   "id": "872c618c",
   "metadata": {},
   "outputs": [],
   "source": [
    " A = [[1, 2],\n",
    "      [3, 4]]"
   ]
  },
  {
   "cell_type": "code",
   "execution_count": 24,
   "id": "868e0c96",
   "metadata": {},
   "outputs": [],
   "source": [
    "A = [[-87, 79, 32],\n",
    "      [93, 98, 21],\n",
    "      [-87, 32, -28]]"
   ]
  },
  {
   "cell_type": "code",
   "execution_count": 25,
   "id": "0204c618",
   "metadata": {},
   "outputs": [
    {
     "name": "stdout",
     "output_type": "stream",
     "text": [
      "726639\n"
     ]
    }
   ],
   "source": [
    "if len(A[0]) == 2:\n",
    "    print(A[0][0]*A[1][1] - A[0][1]*A[1][0])\n",
    "\n",
    "else:\n",
    "    print(A[0][0]*(A[1][1]*A[2][2] - A[1][2]*A[2][1]) - A[0][1]*(A[1][0]*A[2][2]-A[1][2]*A[2][0]) + A[0][2]*(A[1][0]*A[2][1]-A[1][1]*A[2][0]))"
   ]
  },
  {
   "cell_type": "code",
   "execution_count": null,
   "id": "f4716a48",
   "metadata": {},
   "outputs": [],
   "source": []
  },
  {
   "cell_type": "code",
   "execution_count": null,
   "id": "a77c0cad",
   "metadata": {},
   "outputs": [],
   "source": []
  },
  {
   "cell_type": "code",
   "execution_count": null,
   "id": "b1f1f436",
   "metadata": {},
   "outputs": [],
   "source": []
  },
  {
   "cell_type": "code",
   "execution_count": 48,
   "id": "42c363e8",
   "metadata": {},
   "outputs": [],
   "source": [
    "def solve(A):\n",
    "    A+=A\n",
    "    x = A\n",
    "    for i in A:\n",
    "        if i.isupper():\n",
    "            x=x.replace(i,'')\n",
    "        elif i in 'aeiou':\n",
    "            x = x.replace(i,'#')\n",
    "    return x        \n"
   ]
  },
  {
   "cell_type": "code",
   "execution_count": 50,
   "id": "4029f946",
   "metadata": {},
   "outputs": [
    {
     "data": {
      "text/plain": [
       "'###z###z'"
      ]
     },
     "execution_count": 50,
     "metadata": {},
     "output_type": "execute_result"
    }
   ],
   "source": [
    "solve('aeiOUz')"
   ]
  },
  {
   "cell_type": "code",
   "execution_count": null,
   "id": "be0bc47e",
   "metadata": {},
   "outputs": [],
   "source": []
  },
  {
   "cell_type": "code",
   "execution_count": null,
   "id": "dbf3db90",
   "metadata": {},
   "outputs": [],
   "source": []
  },
  {
   "cell_type": "code",
   "execution_count": null,
   "id": "c92ec87d",
   "metadata": {},
   "outputs": [],
   "source": []
  },
  {
   "cell_type": "code",
   "execution_count": 59,
   "id": "2ebe0ade",
   "metadata": {},
   "outputs": [
    {
     "data": {
      "text/plain": [
       "97"
      ]
     },
     "execution_count": 59,
     "metadata": {},
     "output_type": "execute_result"
    }
   ],
   "source": [
    "ord('a')"
   ]
  },
  {
   "cell_type": "code",
   "execution_count": 60,
   "id": "377f7cf4",
   "metadata": {},
   "outputs": [
    {
     "data": {
      "text/plain": [
       "98"
      ]
     },
     "execution_count": 60,
     "metadata": {},
     "output_type": "execute_result"
    }
   ],
   "source": [
    "ord('b')"
   ]
  },
  {
   "cell_type": "code",
   "execution_count": 88,
   "id": "e9ca4166",
   "metadata": {},
   "outputs": [
    {
     "data": {
      "text/plain": [
       "'b'"
      ]
     },
     "execution_count": 88,
     "metadata": {},
     "output_type": "execute_result"
    }
   ],
   "source": [
    "chr(98)"
   ]
  },
  {
   "cell_type": "code",
   "execution_count": null,
   "id": "faadc96c",
   "metadata": {},
   "outputs": [],
   "source": []
  },
  {
   "cell_type": "code",
   "execution_count": 67,
   "id": "0e903a4b",
   "metadata": {},
   "outputs": [],
   "source": [
    "a = 'bvymzikytswvgniflzbyyrkcojuxedcviygnxuckqxmiqtzsqvrvppsnmaoghsxoierzuuecjlxwievsxcesfqsaeg'\n",
    "b = 99"
   ]
  },
  {
   "cell_type": "code",
   "execution_count": 84,
   "id": "2e3c15fa",
   "metadata": {},
   "outputs": [],
   "source": [
    "def solve(A, B):\n",
    "    ans = []\n",
    "    for i in A:\n",
    "        if ord(i) == B:\n",
    "            return (A.index(i))\n",
    "        else:\n",
    "            return -1"
   ]
  },
  {
   "cell_type": "code",
   "execution_count": 85,
   "id": "24add46d",
   "metadata": {},
   "outputs": [
    {
     "data": {
      "text/plain": [
       "-1"
      ]
     },
     "execution_count": 85,
     "metadata": {},
     "output_type": "execute_result"
    }
   ],
   "source": [
    "solve('bvymzikytswvgniflzbyyrkcojuxedcviygnxuckqxmiqtzsqvrvppsnmaoghsxoierzuuecjlxwievsxcesfqsaeg',99)"
   ]
  },
  {
   "cell_type": "code",
   "execution_count": null,
   "id": "fa47f42f",
   "metadata": {},
   "outputs": [],
   "source": []
  },
  {
   "cell_type": "code",
   "execution_count": 86,
   "id": "b250df5c",
   "metadata": {},
   "outputs": [],
   "source": [
    "def solve(A, B):\n",
    "    ans = -1\n",
    "    for i in A:\n",
    "        if ord(i) == B:\n",
    "            return (A.index(i))\n",
    "        else:\n",
    "            continue\n",
    "    return ans        "
   ]
  },
  {
   "cell_type": "code",
   "execution_count": 87,
   "id": "0e535643",
   "metadata": {},
   "outputs": [
    {
     "data": {
      "text/plain": [
       "23"
      ]
     },
     "execution_count": 87,
     "metadata": {},
     "output_type": "execute_result"
    }
   ],
   "source": [
    "solve('bvymzikytswvgniflzbyyrkcojuxedcviygnxuckqxmiqtzsqvrvppsnmaoghsxoierzuuecjlxwievsxcesfqsaeg',99)"
   ]
  },
  {
   "cell_type": "code",
   "execution_count": null,
   "id": "2e987405",
   "metadata": {},
   "outputs": [],
   "source": []
  },
  {
   "cell_type": "code",
   "execution_count": 4,
   "id": "3e790c4f",
   "metadata": {},
   "outputs": [],
   "source": [
    "def solve(A, B):\n",
    "        ans=A.find(chr(B))\n",
    "        return ans"
   ]
  },
  {
   "cell_type": "code",
   "execution_count": 5,
   "id": "6883691a",
   "metadata": {},
   "outputs": [
    {
     "data": {
      "text/plain": [
       "-1"
      ]
     },
     "execution_count": 5,
     "metadata": {},
     "output_type": "execute_result"
    }
   ],
   "source": [
    "solve('abcdefghi',1100)"
   ]
  },
  {
   "cell_type": "code",
   "execution_count": null,
   "id": "ac424952",
   "metadata": {},
   "outputs": [],
   "source": []
  },
  {
   "cell_type": "code",
   "execution_count": 93,
   "id": "09e72ab1",
   "metadata": {},
   "outputs": [],
   "source": [
    "def solve(A,B):\n",
    "    ans= -1\n",
    "    for i in A:\n",
    "        if ord(i) == B:\n",
    "            return A.index(i)\n",
    "        else:\n",
    "            continue\n",
    "    return ans        "
   ]
  },
  {
   "cell_type": "code",
   "execution_count": 94,
   "id": "2e920495",
   "metadata": {},
   "outputs": [
    {
     "data": {
      "text/plain": [
       "23"
      ]
     },
     "execution_count": 94,
     "metadata": {},
     "output_type": "execute_result"
    }
   ],
   "source": [
    "solve('bvymzikytswvgniflzbyyrkcojuxedcviygnxuckqxmiqtzsqvrvppsnmaoghsxoierzuuecjlxwievsxcesfqsaeg',99)"
   ]
  },
  {
   "cell_type": "code",
   "execution_count": 7,
   "id": "caa8a952",
   "metadata": {},
   "outputs": [
    {
     "data": {
      "text/plain": [
       "66"
      ]
     },
     "execution_count": 7,
     "metadata": {},
     "output_type": "execute_result"
    }
   ],
   "source": [
    "ord('B')"
   ]
  },
  {
   "cell_type": "code",
   "execution_count": null,
   "id": "090549e7",
   "metadata": {},
   "outputs": [],
   "source": []
  },
  {
   "cell_type": "code",
   "execution_count": null,
   "id": "203bf780",
   "metadata": {},
   "outputs": [],
   "source": []
  },
  {
   "cell_type": "code",
   "execution_count": 95,
   "id": "2fb762c6",
   "metadata": {},
   "outputs": [
    {
     "data": {
      "text/plain": [
       "0"
      ]
     },
     "execution_count": 95,
     "metadata": {},
     "output_type": "execute_result"
    }
   ],
   "source": [
    "0%2"
   ]
  },
  {
   "cell_type": "code",
   "execution_count": 97,
   "id": "51d3e347",
   "metadata": {},
   "outputs": [
    {
     "name": "stdout",
     "output_type": "stream",
     "text": [
      "sCaLeR AcAdEmY\n"
     ]
    }
   ],
   "source": [
    "word = \"Scaler Academy\"\n",
    "n = len(word)\n",
    "word1 = word.upper()\n",
    "word2 = word.lower()\n",
    "\n",
    "converted_word = \"\"\n",
    "\n",
    "for i in range(n):\n",
    "    if i % 2 == 0:\n",
    "        converted_word += word2[i]\n",
    "    else:\n",
    "         converted_word += word1[i]\n",
    "print(converted_word)            "
   ]
  },
  {
   "cell_type": "code",
   "execution_count": 98,
   "id": "e564f6a5",
   "metadata": {},
   "outputs": [
    {
     "ename": "TypeError",
     "evalue": "can only concatenate str (not \"int\") to str",
     "output_type": "error",
     "traceback": [
      "\u001b[1;31m---------------------------------------------------------------------------\u001b[0m",
      "\u001b[1;31mTypeError\u001b[0m                                 Traceback (most recent call last)",
      "Input \u001b[1;32mIn [98]\u001b[0m, in \u001b[0;36m<cell line: 1>\u001b[1;34m()\u001b[0m\n\u001b[1;32m----> 1\u001b[0m \u001b[38;5;28mprint\u001b[39m(\u001b[38;5;124;43m'\u001b[39;49m\u001b[38;5;124;43mhello\u001b[39;49m\u001b[38;5;124;43m'\u001b[39;49m\u001b[38;5;241;43m+\u001b[39;49m\u001b[38;5;241;43m1\u001b[39;49m\u001b[38;5;241m+\u001b[39m\u001b[38;5;241m2\u001b[39m)\n",
      "\u001b[1;31mTypeError\u001b[0m: can only concatenate str (not \"int\") to str"
     ]
    }
   ],
   "source": [
    "print('hello'+1+2)"
   ]
  },
  {
   "cell_type": "code",
   "execution_count": 99,
   "id": "540e4b47",
   "metadata": {},
   "outputs": [
    {
     "name": "stdout",
     "output_type": "stream",
     "text": [
      "fox quick\n"
     ]
    }
   ],
   "source": [
    "str1 = \"quick brown fox word!\"\n",
    "print(str1[12:15], str1[:5])"
   ]
  },
  {
   "cell_type": "code",
   "execution_count": 100,
   "id": "11992104",
   "metadata": {},
   "outputs": [
    {
     "name": "stdout",
     "output_type": "stream",
     "text": [
      "fox quick word own fox word! ord!\n"
     ]
    }
   ],
   "source": [
    "str1 = \"quick brown fox word!\"\n",
    "print(str1[12:15], str1[:5], str1[-5:-1], str1[8:110], str1[-4:])"
   ]
  },
  {
   "cell_type": "code",
   "execution_count": 101,
   "id": "032482cb",
   "metadata": {},
   "outputs": [],
   "source": [
    "s = 'My Age is 20'"
   ]
  },
  {
   "cell_type": "code",
   "execution_count": 102,
   "id": "28a6e870",
   "metadata": {},
   "outputs": [
    {
     "name": "stdout",
     "output_type": "stream",
     "text": [
      "False\n"
     ]
    }
   ],
   "source": [
    "print(s.isalnum())"
   ]
  },
  {
   "cell_type": "code",
   "execution_count": 106,
   "id": "228ec5ac",
   "metadata": {},
   "outputs": [
    {
     "data": {
      "text/plain": [
       "False"
      ]
     },
     "execution_count": 106,
     "metadata": {},
     "output_type": "execute_result"
    }
   ],
   "source": [
    "s.startswith('My Ad')"
   ]
  },
  {
   "cell_type": "code",
   "execution_count": 108,
   "id": "b0544f9f",
   "metadata": {},
   "outputs": [
    {
     "data": {
      "text/plain": [
       "False"
      ]
     },
     "execution_count": 108,
     "metadata": {},
     "output_type": "execute_result"
    }
   ],
   "source": [
    "a = ' f  '\n",
    "a.isspace()"
   ]
  },
  {
   "cell_type": "code",
   "execution_count": 109,
   "id": "5b24a7aa",
   "metadata": {},
   "outputs": [
    {
     "name": "stdout",
     "output_type": "stream",
     "text": [
      "hellohello\n"
     ]
    }
   ],
   "source": [
    "print('hello'*2)"
   ]
  },
  {
   "cell_type": "code",
   "execution_count": null,
   "id": "c4905b0f",
   "metadata": {},
   "outputs": [],
   "source": []
  },
  {
   "cell_type": "code",
   "execution_count": null,
   "id": "4e276f12",
   "metadata": {},
   "outputs": [],
   "source": []
  },
  {
   "cell_type": "markdown",
   "id": "3af9a072",
   "metadata": {},
   "source": [
    "#### removing unwanted spaces"
   ]
  },
  {
   "cell_type": "code",
   "execution_count": 5,
   "id": "29cd2cec",
   "metadata": {
    "scrolled": true
   },
   "outputs": [
    {
     "data": {
      "text/plain": [
       "'this is a string'"
      ]
     },
     "execution_count": 5,
     "metadata": {},
     "output_type": "execute_result"
    }
   ],
   "source": [
    "import re\n",
    "a = 'this is   a     string'\n",
    "b=re.sub(' +',' ',a)\n",
    "b"
   ]
  },
  {
   "cell_type": "code",
   "execution_count": null,
   "id": "dd5acc43",
   "metadata": {},
   "outputs": [],
   "source": []
  },
  {
   "cell_type": "code",
   "execution_count": 112,
   "id": "c6e4de02",
   "metadata": {},
   "outputs": [
    {
     "data": {
      "text/plain": [
       "['sdf', 'df,dfs', 'f,e', 'g']"
      ]
     },
     "execution_count": 112,
     "metadata": {},
     "output_type": "execute_result"
    }
   ],
   "source": [
    "a = 'sdf       df,dfs  f,e g'\n",
    "b = a.split()\n",
    "b"
   ]
  },
  {
   "cell_type": "code",
   "execution_count": 6,
   "id": "9302c774",
   "metadata": {},
   "outputs": [
    {
     "data": {
      "text/plain": [
       "['this is', ' a', '', ' string']"
      ]
     },
     "execution_count": 6,
     "metadata": {},
     "output_type": "execute_result"
    }
   ],
   "source": [
    "a = 'this is   a     string'\n",
    "b = a.split('  ')\n",
    "b"
   ]
  },
  {
   "cell_type": "code",
   "execution_count": 7,
   "id": "5d545877",
   "metadata": {},
   "outputs": [
    {
     "data": {
      "text/plain": [
       "'this is a string'"
      ]
     },
     "execution_count": 7,
     "metadata": {},
     "output_type": "execute_result"
    }
   ],
   "source": [
    "a = 'this is   a     string'\n",
    "b = a.split()\n",
    "c = ' '.join(b)\n",
    "c\n"
   ]
  },
  {
   "cell_type": "code",
   "execution_count": null,
   "id": "b2e2b7d0",
   "metadata": {},
   "outputs": [],
   "source": []
  },
  {
   "cell_type": "code",
   "execution_count": null,
   "id": "cbd58205",
   "metadata": {},
   "outputs": [],
   "source": []
  },
  {
   "cell_type": "code",
   "execution_count": 114,
   "id": "285baf50",
   "metadata": {},
   "outputs": [
    {
     "data": {
      "text/plain": [
       "['sdf       df', 'dfs  f', 'e g']"
      ]
     },
     "execution_count": 114,
     "metadata": {},
     "output_type": "execute_result"
    }
   ],
   "source": [
    "a = 'sdf       df,dfs  f,e g'\n",
    "b = a.split(',')\n",
    "b"
   ]
  },
  {
   "cell_type": "code",
   "execution_count": null,
   "id": "133c025e",
   "metadata": {},
   "outputs": [],
   "source": []
  },
  {
   "cell_type": "code",
   "execution_count": 134,
   "id": "42801671",
   "metadata": {},
   "outputs": [
    {
     "data": {
      "text/plain": [
       "23"
      ]
     },
     "execution_count": 134,
     "metadata": {},
     "output_type": "execute_result"
    }
   ],
   "source": [
    "a = 'my name      is sourabh'\n",
    "len(a)"
   ]
  },
  {
   "cell_type": "code",
   "execution_count": null,
   "id": "b79c8dc5",
   "metadata": {},
   "outputs": [],
   "source": []
  },
  {
   "cell_type": "code",
   "execution_count": null,
   "id": "99b10eaf",
   "metadata": {},
   "outputs": [],
   "source": [
    "import numpy as np\n",
    " \n",
    "def remove(string):\n",
    "    return np.char.replace(string, ' ', '')\n",
    " \n",
    "# Driver Code\n",
    "string = ' g e e k '\n",
    "print(remove(string))"
   ]
  },
  {
   "cell_type": "code",
   "execution_count": 8,
   "id": "0e1f0e59",
   "metadata": {},
   "outputs": [
    {
     "data": {
      "text/plain": [
       "array('this is  a   string', dtype='<U19')"
      ]
     },
     "execution_count": 8,
     "metadata": {},
     "output_type": "execute_result"
    }
   ],
   "source": [
    "import numpy as np\n",
    "\n",
    "a = 'this is   a     string'\n",
    "b = np.char.replace(a, '  ', ' ')\n",
    "b"
   ]
  },
  {
   "cell_type": "code",
   "execution_count": null,
   "id": "2cfcbe80",
   "metadata": {},
   "outputs": [],
   "source": []
  },
  {
   "cell_type": "code",
   "execution_count": 9,
   "id": "f8b9b146",
   "metadata": {},
   "outputs": [
    {
     "ename": "ValueError",
     "evalue": "empty separator",
     "output_type": "error",
     "traceback": [
      "\u001b[1;31m---------------------------------------------------------------------------\u001b[0m",
      "\u001b[1;31mValueError\u001b[0m                                Traceback (most recent call last)",
      "Input \u001b[1;32mIn [9]\u001b[0m, in \u001b[0;36m<cell line: 2>\u001b[1;34m()\u001b[0m\n\u001b[0;32m      1\u001b[0m a \u001b[38;5;241m=\u001b[39m \u001b[38;5;124m'\u001b[39m\u001b[38;5;124mwork\u001b[39m\u001b[38;5;124m'\u001b[39m\n\u001b[1;32m----> 2\u001b[0m \u001b[43ma\u001b[49m\u001b[38;5;241;43m.\u001b[39;49m\u001b[43msplit\u001b[49m\u001b[43m(\u001b[49m\u001b[38;5;124;43m'\u001b[39;49m\u001b[38;5;124;43m'\u001b[39;49m\u001b[43m)\u001b[49m\n\u001b[0;32m      3\u001b[0m a\n",
      "\u001b[1;31mValueError\u001b[0m: empty separator"
     ]
    }
   ],
   "source": [
    "a = 'work'\n",
    "a.split('')\n",
    "a"
   ]
  },
  {
   "cell_type": "code",
   "execution_count": null,
   "id": "065c03ca",
   "metadata": {},
   "outputs": [],
   "source": []
  },
  {
   "cell_type": "code",
   "execution_count": 13,
   "id": "d91de921",
   "metadata": {},
   "outputs": [
    {
     "data": {
      "text/plain": [
       "[0, 2, 4, 6, 8, 10]"
      ]
     },
     "execution_count": 13,
     "metadata": {},
     "output_type": "execute_result"
    }
   ],
   "source": [
    "[i for i in range(0,11) if i%2==0 ]"
   ]
  },
  {
   "cell_type": "code",
   "execution_count": 14,
   "id": "c0658a17",
   "metadata": {},
   "outputs": [
    {
     "data": {
      "text/plain": [
       "[[0, 0, 0], [0, 0, 0]]"
      ]
     },
     "execution_count": 14,
     "metadata": {},
     "output_type": "execute_result"
    }
   ],
   "source": [
    "[[0]*3 for i in range(2)]"
   ]
  },
  {
   "cell_type": "code",
   "execution_count": null,
   "id": "1e873bd0",
   "metadata": {},
   "outputs": [],
   "source": []
  },
  {
   "cell_type": "code",
   "execution_count": null,
   "id": "54bc29ce",
   "metadata": {},
   "outputs": [],
   "source": []
  },
  {
   "cell_type": "code",
   "execution_count": null,
   "id": "b03b91f7",
   "metadata": {},
   "outputs": [],
   "source": [
    "#additional practise"
   ]
  },
  {
   "cell_type": "code",
   "execution_count": 19,
   "id": "a9156742",
   "metadata": {},
   "outputs": [],
   "source": [
    "def foo(x,y=[]):\n",
    "    y.append(x)\n",
    "    return y"
   ]
  },
  {
   "cell_type": "code",
   "execution_count": 22,
   "id": "c7752e5e",
   "metadata": {},
   "outputs": [
    {
     "name": "stdout",
     "output_type": "stream",
     "text": [
      "[3, 3, 2]\n"
     ]
    }
   ],
   "source": [
    "print(foo(2)) "
   ]
  },
  {
   "cell_type": "code",
   "execution_count": 21,
   "id": "69e95af9",
   "metadata": {},
   "outputs": [
    {
     "name": "stdout",
     "output_type": "stream",
     "text": [
      "[3, 3]\n"
     ]
    }
   ],
   "source": [
    "print(foo(3)) "
   ]
  },
  {
   "cell_type": "code",
   "execution_count": null,
   "id": "eeb2be92",
   "metadata": {},
   "outputs": [],
   "source": []
  },
  {
   "cell_type": "code",
   "execution_count": null,
   "id": "cf809e3c",
   "metadata": {},
   "outputs": [],
   "source": []
  }
 ],
 "metadata": {
  "kernelspec": {
   "display_name": "Python 3 (ipykernel)",
   "language": "python",
   "name": "python3"
  },
  "language_info": {
   "codemirror_mode": {
    "name": "ipython",
    "version": 3
   },
   "file_extension": ".py",
   "mimetype": "text/x-python",
   "name": "python",
   "nbconvert_exporter": "python",
   "pygments_lexer": "ipython3",
   "version": "3.9.12"
  }
 },
 "nbformat": 4,
 "nbformat_minor": 5
}
